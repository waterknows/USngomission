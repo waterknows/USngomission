{
 "cells": [
  {
   "cell_type": "markdown",
   "metadata": {
    "collapsed": false
   },
   "source": [
    "# Memo on Clustering and Topic Modelling"
   ]
  },
  {
   "cell_type": "markdown",
   "metadata": {},
   "source": [
    "Yuxiao Sun, 455136"
   ]
  },
  {
   "cell_type": "markdown",
   "metadata": {},
   "source": [
    "Abstract: I build a database of large Nonprofits (definition here: http://www.charitynavigator.org/index.cfm?bay=content.view&cpid=32#.VxovOyb8s8o) by web-scraping all the NGOs rated by the CharityNavigator. The database contains basic information about the Nonprofits: sector, location, ratings, mission statements, etc. After that, I apply clustering method (mainly the K-mean method with tf-idf normalization) to classify a training set into 25 clusters--to somehow echo the \"official\" classfication schema of Nonprofits (NTEE code: http://nccs.urban.org/classification/ntee.cfm). As for evaluation, I plot a stacked bar graph showing the relationship between NTEE classification and my training results. I also run a chi-squared test of contingency confirming the significant relationship between my clustering result and the NTEE classification. However, since the relationship is not explicit, more works will be done to interpret it in the future. I will also test on different clustering methods to come up with the \"best\" classifier. One application of this is to classify nonprofits that are not officially (from IRS) classified by NTEE based on their mission statements. The unclassified nonprofits amount to 18.32% in our dataset of \"large\" and presumably famous nonprofits in US, so the proportion can be even higher for the complete space of 1.5 million nonprofits recorded by IRS."
   ]
  },
  {
   "cell_type": "code",
   "execution_count": 1,
   "metadata": {
    "collapsed": true
   },
   "outputs": [],
   "source": [
    "import re\n",
    "from urllib.request import urlopen\n",
    "from urllib.request import Request\n",
    "from bs4 import BeautifulSoup\n",
    "import csv\n",
    "import pandas as pd\n",
    "import time\n",
    "import datetime\n",
    "import numpy as np\n",
    "import os\n",
    "import string\n",
    "import nltk\n",
    "from nltk.corpus import stopwords\n",
    "import random\n",
    "%matplotlib inline"
   ]
  },
  {
   "cell_type": "markdown",
   "metadata": {},
   "source": [
    "# Part I Web Scraping"
   ]
  },
  {
   "cell_type": "markdown",
   "metadata": {},
   "source": [
    "1.Landing Page"
   ]
  },
  {
   "cell_type": "code",
   "execution_count": null,
   "metadata": {
    "collapsed": false,
    "scrolled": true
   },
   "outputs": [],
   "source": [
    "letters = list(string.ascii_uppercase)"
   ]
  },
  {
   "cell_type": "code",
   "execution_count": null,
   "metadata": {
    "collapsed": true
   },
   "outputs": [],
   "source": [
    "digits=['1','2','3','4','5','9']"
   ]
  },
  {
   "cell_type": "code",
   "execution_count": null,
   "metadata": {
    "collapsed": false
   },
   "outputs": [],
   "source": [
    "pagenumber=letters+digits"
   ]
  },
  {
   "cell_type": "code",
   "execution_count": null,
   "metadata": {
    "collapsed": true
   },
   "outputs": [],
   "source": [
    "template = 'http://www.charitynavigator.org/index.cfm?bay=search.alpha&ltr={}'\n",
    "pagelinks = [template.format(x) for x in pagenumber]"
   ]
  },
  {
   "cell_type": "code",
   "execution_count": null,
   "metadata": {
    "collapsed": true
   },
   "outputs": [],
   "source": [
    "for links,numbers in zip(pagelinks,pagenumber):\n",
    "    filename = 'ngo_{}.htm'.format(numbers)\n",
    "    html = urlopen(links).read().decode('utf-8') \n",
    "    out_dir='ngo'\n",
    "    os.makedirs(out_dir,exist_ok=True)\n",
    "    with open(out_dir + \"/\" + filename, 'w',encoding='utf-8') as f:\n",
    "        f.write(html)"
   ]
  },
  {
   "cell_type": "code",
   "execution_count": null,
   "metadata": {
    "collapsed": true
   },
   "outputs": [],
   "source": [
    "name=[]\n",
    "link=[]\n",
    "location=[]\n",
    "for page in pagenumber:\n",
    "    filename='ngo_{}.htm'.format(page)\n",
    "    html=open('ngo'+'/'+filename,'r',encoding='utf-8').read()\n",
    "    soup=BeautifulSoup(html, \"lxml\")\n",
    "    for each in soup.find('div',attrs={'id':'maincontent'}).find_all('a', href=re.compile('.*orgid=\\d+')):\n",
    "        try:\n",
    "            nam=each.get_text().split(' - ')[-2]\n",
    "        except:\n",
    "            tit=None\n",
    "        try:\n",
    "            lin = each['href'] \n",
    "        except:\n",
    "            lin=None        \n",
    "        try:\n",
    "            loc=each.get_text().split(' - ')[-1]\n",
    "        except:\n",
    "            loc=None\n",
    "        \n",
    "        name.append(nam) #append the list for each iteration\n",
    "        link.append(lin)       \n",
    "        location.append(loc)"
   ]
  },
  {
   "cell_type": "code",
   "execution_count": null,
   "metadata": {
    "collapsed": true
   },
   "outputs": [],
   "source": [
    "def format_filename(s):\n",
    "#Take a string and return a valid filename constructed from the string. \n",
    "#Uses a whitelist approach: any characters not present in valid_chars are removed. \n",
    "    valid_chars = \"-_.() %s%s\" % (string.ascii_letters, string.digits)\n",
    "    filename = ''.join(c for c in s if c in valid_chars)\n",
    "    return filename"
   ]
  },
  {
   "cell_type": "markdown",
   "metadata": {},
   "source": [
    "2.Summary Page"
   ]
  },
  {
   "cell_type": "code",
   "execution_count": null,
   "metadata": {
    "collapsed": false
   },
   "outputs": [],
   "source": [
    "ein=[]\n",
    "n=0\n",
    "for linkk,locationn,namee in zip(link,location,name): \n",
    "    try:    \n",
    "        html = urlopen(linkk).read().decode('utf-8') \n",
    "    except:\n",
    "        html=None\n",
    "    try:\n",
    "        e=BeautifulSoup(html,'lxml').find('div',attrs={'class':'tabs'}).find('a',href=re.compile('.*ein=\\d+'))['href']\n",
    "        ei=re.findall('\\d+', e)\n",
    "    except:\n",
    "        ei=['0']\n",
    "    fname=' '.join([str(n), str(ei)])\n",
    "    filename = '{}.htm'.format(fname)\n",
    "    out_dir='ngodetail'\n",
    "    os.makedirs(out_dir,exist_ok=True)\n",
    "    with open(out_dir + \"/\" + filename, 'w',encoding='utf-8') as f:\n",
    "        f.write(html)\n",
    "    ein=ein+ei\n",
    "    n=n+1"
   ]
  },
  {
   "cell_type": "code",
   "execution_count": null,
   "metadata": {
    "collapsed": false,
    "scrolled": true
   },
   "outputs": [],
   "source": [
    "df=pd.DataFrame({'name':name,'link':link,'location':location,'ein':ein}) "
   ]
  },
  {
   "cell_type": "code",
   "execution_count": null,
   "metadata": {
    "collapsed": false
   },
   "outputs": [],
   "source": [
    "df.to_csv('ngoein.csv',encoding='utf-8')"
   ]
  },
  {
   "cell_type": "code",
   "execution_count": null,
   "metadata": {
    "collapsed": false
   },
   "outputs": [],
   "source": [
    "df=pd.read_csv('ngoein.csv',encoding=\"ISO-8859-1\")"
   ]
  },
  {
   "cell_type": "code",
   "execution_count": null,
   "metadata": {
    "collapsed": true
   },
   "outputs": [],
   "source": [
    "df['ein']"
   ]
  },
  {
   "cell_type": "markdown",
   "metadata": {},
   "source": [
    "3.IRS Page"
   ]
  },
  {
   "cell_type": "code",
   "execution_count": null,
   "metadata": {
    "collapsed": true
   },
   "outputs": [],
   "source": [
    "template2 = 'http://www.charitynavigator.org/index.cfm?bay=search.irs&ein={}'\n",
    "pagelinks2 = [template2.format(x) for x in df['ein']]"
   ]
  },
  {
   "cell_type": "code",
   "execution_count": null,
   "metadata": {
    "collapsed": false
   },
   "outputs": [],
   "source": [
    "n=0\n",
    "for links,numbers in zip(pagelinks2,df['ein']):\n",
    "    fname=' '.join([str(n), str(numbers)])\n",
    "    filename = '{}.htm'.format(fname)\n",
    "    try:\n",
    "        html = urlopen(links).read().decode('utf-8')\n",
    "    except:\n",
    "        html = 'No data'\n",
    "    out_dir='ngoirs'\n",
    "    os.makedirs(out_dir,exist_ok=True)\n",
    "    with open(out_dir + \"/\" + filename, 'w',encoding='utf-8') as f:\n",
    "        f.write(html)\n",
    "    n=n+1"
   ]
  },
  {
   "cell_type": "markdown",
   "metadata": {},
   "source": [
    "# Part II Information Extraction"
   ]
  },
  {
   "cell_type": "markdown",
   "metadata": {},
   "source": [
    "1.IRS Information Table"
   ]
  },
  {
   "cell_type": "code",
   "execution_count": null,
   "metadata": {
    "collapsed": false
   },
   "outputs": [],
   "source": [
    "os.getcwd()"
   ]
  },
  {
   "cell_type": "code",
   "execution_count": null,
   "metadata": {
    "collapsed": false
   },
   "outputs": [],
   "source": [
    "path = \"ngoirs/\"\n",
    "dirs = os.listdir(path)"
   ]
  },
  {
   "cell_type": "code",
   "execution_count": null,
   "metadata": {
    "collapsed": true
   },
   "outputs": [],
   "source": [
    "ordered_files = sorted(dirs, key=lambda x: (int(re.sub('\\s\\d+.htm','',x)),x))"
   ]
  },
  {
   "cell_type": "code",
   "execution_count": null,
   "metadata": {
    "collapsed": false,
    "scrolled": true
   },
   "outputs": [],
   "source": [
    "ordered_files"
   ]
  },
  {
   "cell_type": "code",
   "execution_count": null,
   "metadata": {
    "collapsed": true
   },
   "outputs": [],
   "source": [
    "items=['EIN','Name in IRS Master File','NTEE Code','NTEE Classification','NTEE Type','Classification','Subsection','Activities',\n",
    "      'Foundation Status','Deductibility','Affiliation','Group Name','Ruling Date','Filing Requirement','Fiscal Year End']"
   ]
  },
  {
   "cell_type": "code",
   "execution_count": null,
   "metadata": {
    "collapsed": false
   },
   "outputs": [],
   "source": [
    "col = [[] for i in range(15)]"
   ]
  },
  {
   "cell_type": "code",
   "execution_count": null,
   "metadata": {
    "collapsed": false
   },
   "outputs": [],
   "source": [
    "for each in ordered_files:\n",
    "    with open('ngoirs/'+each, encoding='utf-8') as f:\n",
    "        html=f.read()\n",
    "        soup=BeautifulSoup(html,'lxml')\n",
    "        table=soup.find('div', attrs={'class':'shadedtable'})\n",
    "        for n in range(15):\n",
    "            if table.find('td', text = re.compile(items[n])) != None:\n",
    "                try:\n",
    "                    value=table.find('td', text = re.compile(items[n])).findNext('td').get_text()\n",
    "                except:\n",
    "                    value='0'\n",
    "            col[n].append(value)\n",
    "df = pd.DataFrame(col).transpose()\n",
    "df.columns=items\n",
    "df.to_csv('ngoirs.csv')"
   ]
  },
  {
   "cell_type": "code",
   "execution_count": null,
   "metadata": {
    "collapsed": false,
    "scrolled": true
   },
   "outputs": [],
   "source": [
    "df"
   ]
  },
  {
   "cell_type": "markdown",
   "metadata": {
    "collapsed": true
   },
   "source": [
    "2.Rating Information Table"
   ]
  },
  {
   "cell_type": "markdown",
   "metadata": {},
   "source": [
    "delete 312 donor advisory orgs"
   ]
  },
  {
   "cell_type": "code",
   "execution_count": null,
   "metadata": {
    "collapsed": false
   },
   "outputs": [],
   "source": [
    "path = \"ngodetail/\"\n",
    "dirs = os.listdir(path)\n",
    "ordered_files = sorted(dirs, key=lambda x: (int(re.sub('\\s\\[\\'\\d+\\'\\].htm','',x)),x))"
   ]
  },
  {
   "cell_type": "code",
   "execution_count": null,
   "metadata": {
    "collapsed": false
   },
   "outputs": [],
   "source": [
    "items=['Overall','Financial','Transparency','EIN']\n",
    "col = [[] for i in range(4)]"
   ]
  },
  {
   "cell_type": "code",
   "execution_count": null,
   "metadata": {
    "collapsed": false
   },
   "outputs": [],
   "source": [
    "for each in ordered_files:\n",
    "    with open('ngodetail/'+each, encoding='utf-8') as f:\n",
    "        html=f.read()\n",
    "        soup=BeautifulSoup(html,'lxml')\n",
    "        table=soup.find('div', attrs={'class':'summaryBox'})\n",
    "        lefttable=soup.find('div', attrs={'id':'leftnavcontent'})\n",
    "        for n in range(3):\n",
    "            if table.find('td', text = re.compile(items[n])) != None:\n",
    "                try:\n",
    "                    value=table.find('td', text = re.compile(items[n])).findNext('td').get_text()\n",
    "                except:\n",
    "                    value='0'\n",
    "            col[n].append(value)\n",
    "        col[3].append(str(lefttable.find(text=re.compile('\\d{2}\\-\\d{7}'))).replace('\\n','').replace('\\t','').split(' ')[1])\n",
    "df2 = pd.DataFrame(col).transpose()\n",
    "df2.columns=items\n",
    "df2"
   ]
  },
  {
   "cell_type": "code",
   "execution_count": null,
   "metadata": {
    "collapsed": true
   },
   "outputs": [],
   "source": [
    "df2.to_csv('ngorating.csv')"
   ]
  },
  {
   "cell_type": "code",
   "execution_count": null,
   "metadata": {
    "collapsed": false,
    "scrolled": true
   },
   "outputs": [],
   "source": [
    "df12 = df.merge(df2, left_on='EIN', right_on='EIN', how='inner')"
   ]
  },
  {
   "cell_type": "markdown",
   "metadata": {},
   "source": [
    "3.Contact Information Table"
   ]
  },
  {
   "cell_type": "code",
   "execution_count": 2,
   "metadata": {
    "collapsed": false
   },
   "outputs": [],
   "source": [
    "path = \"ngodetail/\"\n",
    "dirs = os.listdir(path)\n",
    "ordered_files = sorted(dirs, key=lambda x: (int(re.sub('\\s\\[\\'\\d+\\'\\].htm','',x)),x))"
   ]
  },
  {
   "cell_type": "code",
   "execution_count": 5,
   "metadata": {
    "collapsed": false
   },
   "outputs": [],
   "source": [
    "city=[]\n",
    "state=[]\n",
    "tel=[]\n",
    "street=[]\n",
    "EIN=[]\n",
    "website=[]\n",
    "fax=[]"
   ]
  },
  {
   "cell_type": "code",
   "execution_count": 46,
   "metadata": {
    "collapsed": false,
    "scrolled": false
   },
   "outputs": [],
   "source": [
    "with open('contact.csv', 'w',encoding='utf-8') as file:\n",
    "    writer = csv.writer(file, lineterminator = '\\n')\n",
    "    writer.writerow(['street','city','state','EIN','tel','fax','website'])\n",
    "    for each in ordered_files[800:850]:\n",
    "        with open('ngodetail/'+each, encoding='utf-8') as f:\n",
    "            html=f.read()\n",
    "            soup=BeautifulSoup(html,'lxml')\n",
    "            lefttable=soup.find('div', attrs={'id':'leftnavcontent'})\n",
    "\n",
    "            street=lefttable.find('br').nextSibling.replace('\\n','').replace('\\t','')\n",
    "            EIN=str(lefttable.find(text=re.compile('\\d{2}\\-\\d{7}'))).replace('\\n','').replace('\\t','').split(' ')[1]\n",
    "            try:\n",
    "                website=lefttable.find('a', attrs={'id':'orgSiteLink'})['href']\n",
    "            except:\n",
    "                website='NaN'\n",
    "            try:\n",
    "                tel=lefttable.find(text=re.compile('tel:')).replace('\\n','').replace('\\t','').replace('\\xa0',' ')\n",
    "            except:\n",
    "                tel='NaN'\n",
    "            try:\n",
    "                fax=lefttable.find(text=re.compile('fax:')).replace('\\n','').replace('\\t','').replace('\\xa0',' ')\n",
    "            except:\n",
    "                fax='NaN'\n",
    "            try: \n",
    "                data=lefttable.find(text=re.compile('[A-Z]{2}(\\s|&nbsp;)\\d{5}')).replace('\\n','').replace('\\t','').replace('\\xa0',' ').split(',')\n",
    "            except:\n",
    "                data=['NaN']\n",
    "            city=data[0]\n",
    "            state=data[-1]\n",
    "            writer.writerow([street,city,state,EIN,tel,fax,website])"
   ]
  },
  {
   "cell_type": "code",
   "execution_count": null,
   "metadata": {
    "collapsed": true
   },
   "outputs": [],
   "source": [
    "df3=pd.read_csv('contact.csv')"
   ]
  },
  {
   "cell_type": "code",
   "execution_count": null,
   "metadata": {
    "collapsed": true
   },
   "outputs": [],
   "source": [
    "df123= df3.merge(df12, left_on='EIN', right_on='EIN', how='inner')"
   ]
  },
  {
   "cell_type": "code",
   "execution_count": null,
   "metadata": {
    "collapsed": true
   },
   "outputs": [],
   "source": [
    "df123.to_csv('ngoall.csv')"
   ]
  },
  {
   "cell_type": "markdown",
   "metadata": {},
   "source": [
    "Mission Statement"
   ]
  },
  {
   "cell_type": "code",
   "execution_count": null,
   "metadata": {
    "collapsed": false,
    "scrolled": true
   },
   "outputs": [],
   "source": [
    "new=list(df[['Name in IRS Master File','EIN']].apply(lambda x: '_'.join(x), axis=1))"
   ]
  },
  {
   "cell_type": "code",
   "execution_count": null,
   "metadata": {
    "collapsed": false
   },
   "outputs": [],
   "source": [
    "for each,n in zip(ordered_files,new):\n",
    "    with open('ngodetail/'+each, encoding='utf-8') as f:\n",
    "        html=f.read()\n",
    "        soup=BeautifulSoup(html,'lxml')\n",
    "        divs = soup.findAll('div', attrs={'class' : 'summaryBox'})\n",
    "        for div in divs:\n",
    "            if div.find('a',text='Mission') is not None:\n",
    "                mission=div.get_text()[9:]\n",
    "            else:\n",
    "                continue\n",
    "            out_dir='ngomission'\n",
    "            os.makedirs(out_dir,exist_ok=True)\n",
    "            name = '{}.txt'.format(n)\n",
    "            with open(out_dir + \"/\" + name, 'w',encoding='utf-8') as file:\n",
    "                file.write(mission)   "
   ]
  },
  {
   "cell_type": "markdown",
   "metadata": {
    "collapsed": true
   },
   "source": [
    "# Part III Mission Statements Analysis"
   ]
  },
  {
   "cell_type": "markdown",
   "metadata": {},
   "source": [
    "1.Setup"
   ]
  },
  {
   "cell_type": "code",
   "execution_count": 2,
   "metadata": {
    "collapsed": false
   },
   "outputs": [],
   "source": [
    "df=pd.read_csv('ngoall.csv')"
   ]
  },
  {
   "cell_type": "code",
   "execution_count": 128,
   "metadata": {
    "collapsed": false
   },
   "outputs": [
    {
     "data": {
      "text/html": [
       "<div>\n",
       "<table border=\"1\" class=\"dataframe\">\n",
       "  <thead>\n",
       "    <tr style=\"text-align: right;\">\n",
       "      <th></th>\n",
       "      <th>EIN</th>\n",
       "      <th>Name in IRS Master File</th>\n",
       "      <th>NTEE Code</th>\n",
       "      <th>NTEE Type (26)</th>\n",
       "      <th>NTEE Classification</th>\n",
       "      <th>Affiliation</th>\n",
       "      <th>Founded</th>\n",
       "      <th>Overall</th>\n",
       "      <th>Financial Socre</th>\n",
       "      <th>Transparency Score</th>\n",
       "      <th>Tel</th>\n",
       "      <th>Website</th>\n",
       "      <th>Street</th>\n",
       "      <th>City</th>\n",
       "      <th>State</th>\n",
       "      <th>Zip</th>\n",
       "    </tr>\n",
       "  </thead>\n",
       "  <tbody>\n",
       "    <tr>\n",
       "      <th>0</th>\n",
       "      <td>99-0226111</td>\n",
       "      <td>Aha Punana Leo</td>\n",
       "      <td>A70</td>\n",
       "      <td>Arts, Culture and Humanities</td>\n",
       "      <td>Humanities Organizations</td>\n",
       "      <td>Independent</td>\n",
       "      <td>March, 1984</td>\n",
       "      <td>80.96</td>\n",
       "      <td>77.00</td>\n",
       "      <td>86</td>\n",
       "      <td>tel: (808) 935-4304</td>\n",
       "      <td>http://www.ahapunanaleo.org/</td>\n",
       "      <td>96 Pu'uhonu Place</td>\n",
       "      <td>Hilo</td>\n",
       "      <td>HI</td>\n",
       "      <td>96720</td>\n",
       "    </tr>\n",
       "    <tr>\n",
       "      <th>1</th>\n",
       "      <td>23-7173492</td>\n",
       "      <td>A Better Chance Inc</td>\n",
       "      <td>[Not Provided by IRS]</td>\n",
       "      <td>[Not Provided by IRS]</td>\n",
       "      <td>[Not Provided by IRS]</td>\n",
       "      <td>Independent</td>\n",
       "      <td>May, 1972</td>\n",
       "      <td>86.39</td>\n",
       "      <td>80.76</td>\n",
       "      <td>100</td>\n",
       "      <td>tel: (646) 346-1310</td>\n",
       "      <td>http://www.abetterchance.org</td>\n",
       "      <td>253 West 35th Street</td>\n",
       "      <td>New York</td>\n",
       "      <td>NY</td>\n",
       "      <td>10001</td>\n",
       "    </tr>\n",
       "    <tr>\n",
       "      <th>2</th>\n",
       "      <td>73-1116884</td>\n",
       "      <td>A Chance To Change Foundation</td>\n",
       "      <td>[Not Provided by IRS]</td>\n",
       "      <td>[Not Provided by IRS]</td>\n",
       "      <td>[Not Provided by IRS]</td>\n",
       "      <td>Central</td>\n",
       "      <td>November, 1981</td>\n",
       "      <td>76.67</td>\n",
       "      <td>81.05</td>\n",
       "      <td>73</td>\n",
       "      <td>tel: (405) 840-9000</td>\n",
       "      <td>http://www.achancetochange.org/</td>\n",
       "      <td>5228 Classen Circle</td>\n",
       "      <td>Oklahoma City</td>\n",
       "      <td>OK</td>\n",
       "      <td>73118</td>\n",
       "    </tr>\n",
       "    <tr>\n",
       "      <th>3</th>\n",
       "      <td>58-1911741</td>\n",
       "      <td>A Childs Place Of Charlotte Inc</td>\n",
       "      <td>B90</td>\n",
       "      <td>Educational Institutions and Related Activities</td>\n",
       "      <td>Educational Services and Schools - Other</td>\n",
       "      <td>Independent</td>\n",
       "      <td>April, 1991</td>\n",
       "      <td>90.69</td>\n",
       "      <td>87.46</td>\n",
       "      <td>96</td>\n",
       "      <td>tel: (704) 343-3790</td>\n",
       "      <td>http://www.achildsplace.org/</td>\n",
       "      <td>601 East Fifth Street</td>\n",
       "      <td>Charlotte</td>\n",
       "      <td>NC</td>\n",
       "      <td>28202</td>\n",
       "    </tr>\n",
       "    <tr>\n",
       "      <th>4</th>\n",
       "      <td>91-0787792</td>\n",
       "      <td>A Contemporary Theatre Inc</td>\n",
       "      <td>A65</td>\n",
       "      <td>Arts, Culture and Humanities</td>\n",
       "      <td>Theater</td>\n",
       "      <td>Independent</td>\n",
       "      <td>December, 1965</td>\n",
       "      <td>78.54</td>\n",
       "      <td>70.73</td>\n",
       "      <td>92</td>\n",
       "      <td>tel: (206) 292-7660</td>\n",
       "      <td>http://www.acttheatre.org</td>\n",
       "      <td>Kreielsheimer Place</td>\n",
       "      <td>Seattle</td>\n",
       "      <td>WA</td>\n",
       "      <td>98101</td>\n",
       "    </tr>\n",
       "    <tr>\n",
       "      <th>5</th>\n",
       "      <td>90-0018359</td>\n",
       "      <td>A Jewish Voice For Peace Inc</td>\n",
       "      <td>Q40</td>\n",
       "      <td>International, Foreign Affairs and National Se...</td>\n",
       "      <td>International Peace and Security</td>\n",
       "      <td>Independent</td>\n",
       "      <td>February, 2003</td>\n",
       "      <td>87.82</td>\n",
       "      <td>86.75</td>\n",
       "      <td>89</td>\n",
       "      <td>tel: (510) 465-1777</td>\n",
       "      <td>https://jewishvoiceforpeace.org</td>\n",
       "      <td>1611 Telegraph Avenue</td>\n",
       "      <td>Oakland</td>\n",
       "      <td>CA</td>\n",
       "      <td>94612</td>\n",
       "    </tr>\n",
       "    <tr>\n",
       "      <th>6</th>\n",
       "      <td>31-1440073</td>\n",
       "      <td>A Kid Again Inc</td>\n",
       "      <td>P58</td>\n",
       "      <td>Human Services - Multipurpose and Other</td>\n",
       "      <td>Gift Distribution</td>\n",
       "      <td>Independent</td>\n",
       "      <td>September, 1995</td>\n",
       "      <td>81.89</td>\n",
       "      <td>74.39</td>\n",
       "      <td>100</td>\n",
       "      <td>tel: (800) 543-9735</td>\n",
       "      <td>http://www.akidagain.org</td>\n",
       "      <td>777-G Dearborn Park Lane</td>\n",
       "      <td>Columbus</td>\n",
       "      <td>OH</td>\n",
       "      <td>43085</td>\n",
       "    </tr>\n",
       "    <tr>\n",
       "      <th>7</th>\n",
       "      <td>26-0295572</td>\n",
       "      <td>Pediatric Low Grade Astrocytomafoundation Inc</td>\n",
       "      <td>T30</td>\n",
       "      <td>Philanthropy, Voluntarism and Grantmaking Foun...</td>\n",
       "      <td>Public Foundations</td>\n",
       "      <td>Independent</td>\n",
       "      <td>August, 2007</td>\n",
       "      <td>76.43</td>\n",
       "      <td>75.89</td>\n",
       "      <td>77</td>\n",
       "      <td>tel: (914) 762-3494</td>\n",
       "      <td>http://akidsbraintumorcure.org/</td>\n",
       "      <td>98 Random Farms Drive</td>\n",
       "      <td>Chappaqua</td>\n",
       "      <td>NY</td>\n",
       "      <td>10514</td>\n",
       "    </tr>\n",
       "    <tr>\n",
       "      <th>8</th>\n",
       "      <td>95-4443878</td>\n",
       "      <td>A Noise Within</td>\n",
       "      <td>A60</td>\n",
       "      <td>Arts, Culture and Humanities</td>\n",
       "      <td>Performing Arts Organizations</td>\n",
       "      <td>Independent</td>\n",
       "      <td>September, 1993</td>\n",
       "      <td>82.65</td>\n",
       "      <td>85.81</td>\n",
       "      <td>80</td>\n",
       "      <td>tel: (626) 356-3100</td>\n",
       "      <td>http://www.anoisewithin.org</td>\n",
       "      <td>3352 East Foothill Boulevard</td>\n",
       "      <td>Pasadena</td>\n",
       "      <td>CA</td>\n",
       "      <td>91107</td>\n",
       "    </tr>\n",
       "    <tr>\n",
       "      <th>9</th>\n",
       "      <td>95-4427291</td>\n",
       "      <td>A Place Called Home</td>\n",
       "      <td>Z99</td>\n",
       "      <td>Unknown</td>\n",
       "      <td>Unknown</td>\n",
       "      <td>Independent</td>\n",
       "      <td>July, 1993</td>\n",
       "      <td>94.72</td>\n",
       "      <td>92.54</td>\n",
       "      <td>100</td>\n",
       "      <td>tel: (323) 232-7653</td>\n",
       "      <td>http://www.apch.org</td>\n",
       "      <td>2830 South Central Avenue</td>\n",
       "      <td>Los Angeles</td>\n",
       "      <td>CA</td>\n",
       "      <td>90011</td>\n",
       "    </tr>\n",
       "  </tbody>\n",
       "</table>\n",
       "</div>"
      ],
      "text/plain": [
       "          EIN                        Name in IRS Master File  \\\n",
       "0  99-0226111                                 Aha Punana Leo   \n",
       "1  23-7173492                            A Better Chance Inc   \n",
       "2  73-1116884                  A Chance To Change Foundation   \n",
       "3  58-1911741                A Childs Place Of Charlotte Inc   \n",
       "4  91-0787792                     A Contemporary Theatre Inc   \n",
       "5  90-0018359                   A Jewish Voice For Peace Inc   \n",
       "6  31-1440073                                A Kid Again Inc   \n",
       "7  26-0295572  Pediatric Low Grade Astrocytomafoundation Inc   \n",
       "8  95-4443878                                 A Noise Within   \n",
       "9  95-4427291                            A Place Called Home   \n",
       "\n",
       "               NTEE Code                                     NTEE Type (26)  \\\n",
       "0                    A70                       Arts, Culture and Humanities   \n",
       "1  [Not Provided by IRS]                              [Not Provided by IRS]   \n",
       "2  [Not Provided by IRS]                              [Not Provided by IRS]   \n",
       "3                    B90    Educational Institutions and Related Activities   \n",
       "4                    A65                       Arts, Culture and Humanities   \n",
       "5                    Q40  International, Foreign Affairs and National Se...   \n",
       "6                    P58            Human Services - Multipurpose and Other   \n",
       "7                    T30  Philanthropy, Voluntarism and Grantmaking Foun...   \n",
       "8                    A60                       Arts, Culture and Humanities   \n",
       "9                    Z99                                            Unknown   \n",
       "\n",
       "                        NTEE Classification   Affiliation          Founded  \\\n",
       "0                  Humanities Organizations  Independent       March, 1984   \n",
       "1                     [Not Provided by IRS]  Independent         May, 1972   \n",
       "2                     [Not Provided by IRS]      Central    November, 1981   \n",
       "3  Educational Services and Schools - Other  Independent       April, 1991   \n",
       "4                                   Theater  Independent    December, 1965   \n",
       "5          International Peace and Security  Independent    February, 2003   \n",
       "6                         Gift Distribution  Independent   September, 1995   \n",
       "7                        Public Foundations  Independent      August, 2007   \n",
       "8             Performing Arts Organizations  Independent   September, 1993   \n",
       "9                                   Unknown  Independent        July, 1993   \n",
       "\n",
       "   Overall  Financial Socre  Transparency Score                  Tel  \\\n",
       "0    80.96            77.00                  86  tel: (808) 935-4304   \n",
       "1    86.39            80.76                 100  tel: (646) 346-1310   \n",
       "2    76.67            81.05                  73  tel: (405) 840-9000   \n",
       "3    90.69            87.46                  96  tel: (704) 343-3790   \n",
       "4    78.54            70.73                  92  tel: (206) 292-7660   \n",
       "5    87.82            86.75                  89  tel: (510) 465-1777   \n",
       "6    81.89            74.39                 100  tel: (800) 543-9735   \n",
       "7    76.43            75.89                  77  tel: (914) 762-3494   \n",
       "8    82.65            85.81                  80  tel: (626) 356-3100   \n",
       "9    94.72            92.54                 100  tel: (323) 232-7653   \n",
       "\n",
       "                           Website                        Street  \\\n",
       "0     http://www.ahapunanaleo.org/             96 Pu'uhonu Place   \n",
       "1     http://www.abetterchance.org          253 West 35th Street   \n",
       "2  http://www.achancetochange.org/           5228 Classen Circle   \n",
       "3     http://www.achildsplace.org/         601 East Fifth Street   \n",
       "4        http://www.acttheatre.org           Kreielsheimer Place   \n",
       "5  https://jewishvoiceforpeace.org         1611 Telegraph Avenue   \n",
       "6         http://www.akidagain.org      777-G Dearborn Park Lane   \n",
       "7  http://akidsbraintumorcure.org/         98 Random Farms Drive   \n",
       "8      http://www.anoisewithin.org  3352 East Foothill Boulevard   \n",
       "9              http://www.apch.org     2830 South Central Avenue   \n",
       "\n",
       "            City State    Zip  \n",
       "0           Hilo    HI  96720  \n",
       "1       New York    NY  10001  \n",
       "2  Oklahoma City    OK  73118  \n",
       "3      Charlotte    NC  28202  \n",
       "4        Seattle    WA  98101  \n",
       "5        Oakland    CA  94612  \n",
       "6       Columbus    OH  43085  \n",
       "7      Chappaqua    NY  10514  \n",
       "8       Pasadena    CA  91107  \n",
       "9    Los Angeles    CA  90011  "
      ]
     },
     "execution_count": 128,
     "metadata": {},
     "output_type": "execute_result"
    }
   ],
   "source": [
    "df[:10]"
   ]
  },
  {
   "cell_type": "code",
   "execution_count": 62,
   "metadata": {
    "collapsed": false
   },
   "outputs": [
    {
     "data": {
      "text/plain": [
       "NTEE Type (26)\n",
       "Animal-Related                                            389\n",
       "Arts, Culture and Humanities                             1059\n",
       "Civil Rights, Social Action, Advocacy                     108\n",
       "Community Improvement, Capacity Building                   93\n",
       "Crime, Legal-Related                                      113\n",
       "Diseases, Disorders, Medical Disciplines                  150\n",
       "Educational Institutions and Related Activities           626\n",
       "Employment, Job-Related                                    54\n",
       "Environmental Quality, Protection and Beautification      338\n",
       "Food, Agriculture and Nutrition                           196\n",
       "Health - General and Rehabilitative                       287\n",
       "Housing, Shelter                                          218\n",
       "Human Services - Multipurpose and Other                   882\n",
       "International, Foreign Affairs and National Security      527\n",
       "Medical Research                                           86\n",
       "Mental Health, Crisis Intervention                         54\n",
       "Mutual/Membership Benefit Organizations, Other              3\n",
       "Philanthropy, Voluntarism and Grantmaking Foundations     576\n",
       "Public Safety, Disaster Preparedness and Relief            18\n",
       "Public, Society Benefit - Multipurpose and Other           69\n",
       "Recreation, Sports, Leisure, Athletics                    125\n",
       "Religion-Related, Spiritual Development                   320\n",
       "Science and Technology Research Institutes, Services       38\n",
       "Social Science Research Institutes, Services               30\n",
       "Unknown                                                    82\n",
       "Youth Development                                         254\n",
       "[Not Provided by IRS]                                    1502\n",
       "Name: EIN, dtype: int64"
      ]
     },
     "execution_count": 62,
     "metadata": {},
     "output_type": "execute_result"
    }
   ],
   "source": [
    "#display the sectorial distribution of NGOs\n",
    "df.groupby(['NTEE Type (26)'])['EIN'].count()"
   ]
  },
  {
   "cell_type": "markdown",
   "metadata": {},
   "source": [
    "For evaluation purpose later, I split the dataset into training and testing. The training dataset contains Nonprofits already classified by IRS, so we can check the relationship between our clustering method and IRS classification later."
   ]
  },
  {
   "cell_type": "code",
   "execution_count": 70,
   "metadata": {
    "collapsed": false
   },
   "outputs": [
    {
     "data": {
      "text/plain": [
       "1502"
      ]
     },
     "execution_count": 70,
     "metadata": {},
     "output_type": "execute_result"
    }
   ],
   "source": [
    "dftest=df.loc[df['NTEE Type (26)'] == '[Not Provided by IRS]']\n",
    "len(dftest)"
   ]
  },
  {
   "cell_type": "code",
   "execution_count": 77,
   "metadata": {
    "collapsed": false
   },
   "outputs": [
    {
     "data": {
      "text/plain": [
       "6613"
      ]
     },
     "execution_count": 77,
     "metadata": {},
     "output_type": "execute_result"
    }
   ],
   "source": [
    "dftrain1=df.loc[df['NTEE Type (26)'] != '[Not Provided by IRS]']\n",
    "dftrain=dftrain1.loc[dftrain1['NTEE Type (26)'] != 'Unknown']\n",
    "len(dftrain)"
   ]
  },
  {
   "cell_type": "code",
   "execution_count": 78,
   "metadata": {
    "collapsed": true
   },
   "outputs": [],
   "source": [
    "titles=list(dftrain[['Name in IRS Master File','EIN']].apply(lambda x: '_'.join(x), axis=1))"
   ]
  },
  {
   "cell_type": "code",
   "execution_count": 79,
   "metadata": {
    "collapsed": true
   },
   "outputs": [],
   "source": [
    "missions=[]\n",
    "for title in titles:\n",
    "    with open('ngomission/'+title+'.txt', encoding='utf-8') as f:\n",
    "        txt=f.read()\n",
    "        missions.append(txt)        "
   ]
  },
  {
   "cell_type": "code",
   "execution_count": 80,
   "metadata": {
    "collapsed": false
   },
   "outputs": [],
   "source": [
    "stopwords = nltk.corpus.stopwords.words('english')"
   ]
  },
  {
   "cell_type": "code",
   "execution_count": 81,
   "metadata": {
    "collapsed": true
   },
   "outputs": [],
   "source": [
    "from nltk.stem.snowball import SnowballStemmer\n",
    "stemmer = SnowballStemmer(\"english\")"
   ]
  },
  {
   "cell_type": "code",
   "execution_count": 82,
   "metadata": {
    "collapsed": true
   },
   "outputs": [],
   "source": [
    "def tokenize_and_stem(text):\n",
    "    # first tokenize by sentence, then by word to ensure that punctuation is caught as it's own token\n",
    "    tokens = [word for sent in nltk.sent_tokenize(text) for word in nltk.word_tokenize(sent)]\n",
    "    filtered_tokens = []\n",
    "    # filter out any tokens not containing letters (e.g., numeric tokens, raw punctuation)\n",
    "    for token in tokens:\n",
    "        if re.search('[a-zA-Z]', token):\n",
    "            filtered_tokens.append(token)\n",
    "    stems = [stemmer.stem(t) for t in filtered_tokens]\n",
    "    return stems\n",
    "\n",
    "\n",
    "def tokenize_only(text):\n",
    "    # first tokenize by sentence, then by word to ensure that punctuation is caught as it's own token\n",
    "    tokens = [word.lower() for sent in nltk.sent_tokenize(text) for word in nltk.word_tokenize(sent)]\n",
    "    filtered_tokens = []\n",
    "    # filter out any tokens not containing letters (e.g., numeric tokens, raw punctuation)\n",
    "    for token in tokens:\n",
    "        if re.search('[a-zA-Z]', token):\n",
    "            filtered_tokens.append(token)\n",
    "    return filtered_tokens"
   ]
  },
  {
   "cell_type": "code",
   "execution_count": 83,
   "metadata": {
    "collapsed": true
   },
   "outputs": [],
   "source": [
    "totalvocab_stemmed = []\n",
    "totalvocab_tokenized = []\n",
    "for i in missions:\n",
    "    allwords_stemmed = tokenize_and_stem(i) #for each item in 'missions', tokenize/stem\n",
    "    totalvocab_stemmed.extend(allwords_stemmed) #extend the 'totalvocab_stemmed' list\n",
    "    allwords_tokenized = tokenize_only(i)\n",
    "    totalvocab_tokenized.extend(allwords_tokenized)"
   ]
  },
  {
   "cell_type": "markdown",
   "metadata": {},
   "source": [
    "Create a reference table with the stemmed vocabulary as the index and the tokenized words as the column. Because stems to tokens are one to many, I choose to return the first token associated with the stem I need to look up."
   ]
  },
  {
   "cell_type": "code",
   "execution_count": 95,
   "metadata": {
    "collapsed": false
   },
   "outputs": [],
   "source": [
    "vocab_frame = pd.DataFrame({'words': totalvocab_tokenized}, index = totalvocab_stemmed)"
   ]
  },
  {
   "cell_type": "markdown",
   "metadata": {},
   "source": [
    "2.TF-IDF"
   ]
  },
  {
   "cell_type": "markdown",
   "metadata": {},
   "source": [
    "Here, I convert the missions list into a tf-idf matrix.\n",
    "\n",
    "To get a Tf-idf matrix, first count word occurrences by document. Then apply the term frequency-inverse document frequency weighting.\n",
    "\n",
    "The parameters I choose to get tf-idf:\n",
    "\n",
    "max_df: this is the maximum frequency within the documents a given feature can have to be used in the tfi-idf matrix. If the term is in greater than 80% of the documents it probably caries little meanining.\n",
    "\n",
    "min_idf: I pass 0.2; the term must be in at least 20% of the document. \n",
    "\n",
    "ngram_range: I'll look at unigrams, bigrams and trigrams."
   ]
  },
  {
   "cell_type": "code",
   "execution_count": 96,
   "metadata": {
    "collapsed": false
   },
   "outputs": [
    {
     "name": "stdout",
     "output_type": "stream",
     "text": [
      "CPU times: user 42.4 s, sys: 80 ms, total: 42.5 s\n",
      "Wall time: 42.5 s\n",
      "(6613, 18)\n"
     ]
    }
   ],
   "source": [
    "from sklearn.feature_extraction.text import TfidfVectorizer\n",
    "\n",
    "#define vectorizer parameters\n",
    "tfidf_vectorizer = TfidfVectorizer(max_df=0.8, max_features=200000,\n",
    "                                 min_df=0.2, stop_words='english',\n",
    "                                 use_idf=True, tokenizer=tokenize_and_stem, ngram_range=(1,3))\n",
    "\n",
    "%time tfidf_matrix = tfidf_vectorizer.fit_transform(missions) #fit the vectorizer to missions\n",
    "print(tfidf_matrix.shape)"
   ]
  },
  {
   "cell_type": "code",
   "execution_count": 97,
   "metadata": {
    "collapsed": true
   },
   "outputs": [],
   "source": [
    "terms = tfidf_vectorizer.get_feature_names()"
   ]
  },
  {
   "cell_type": "markdown",
   "metadata": {},
   "source": [
    "3.K-Means Clustering"
   ]
  },
  {
   "cell_type": "markdown",
   "metadata": {},
   "source": [
    "Using the tf-idf matrix, we can run a slew of clustering algorithms to better understand the hidden structure within the missions statements. I first chose k-means. Each observation is assigned to a cluster (cluster assignment) so as to minimize the within cluster sum of squares. Next, the mean of the clustered observations is calculated and used as the new cluster centroid. Then, observations are reassigned to clusters and centroids recalculated in an iterative process until the algorithm reaches convergence."
   ]
  },
  {
   "cell_type": "code",
   "execution_count": 98,
   "metadata": {
    "collapsed": false
   },
   "outputs": [
    {
     "name": "stdout",
     "output_type": "stream",
     "text": [
      "CPU times: user 7.05 s, sys: 0 ns, total: 7.05 s\n",
      "Wall time: 7.06 s\n"
     ]
    }
   ],
   "source": [
    "from sklearn.cluster import KMeans\n",
    "num_clusters = 25\n",
    "km = KMeans(n_clusters=num_clusters)\n",
    "%time km.fit(tfidf_matrix)\n",
    "clusters = km.labels_.tolist()"
   ]
  },
  {
   "cell_type": "code",
   "execution_count": 101,
   "metadata": {
    "collapsed": false
   },
   "outputs": [
    {
     "name": "stdout",
     "output_type": "stream",
     "text": [
      "Top terms per cluster:\n",
      "\n",
      "Cluster 0 words: b'needs', b'community', b'provides', b'services', b'people', b'works', b'programs', b'supportive', b'mission', b'family',\n",
      "\n",
      "Cluster 1 words: b'mission', b\"'s\", b'educational', b'provides', b'community', b'programs', b'needs', b'people', b'serving', b'children',\n",
      "\n",
      "Cluster 2 words: b'educational', b'programs', b'community', b'provides', b'mission', b\"'s\", b'supportive', b'works', b'organization', b'serving',\n",
      "\n",
      "Cluster 3 words: b\"'s\", b'organization', b'works', b'educational', b'people', b'mission', b'community', b'programs', b'serving', b'supportive',\n",
      "\n",
      "Cluster 4 words: b'people', b\"'s\", b'educational', b'community', b'provides', b'mission', b'programs', b'works', b'living', b'organization',\n",
      "\n",
      "Cluster 5 words: b'children', b\"'s\", b'provides', b'programs', b'educational', b'living', b'mission', b'supportive', b'help', b'needs',\n",
      "\n",
      "Cluster 6 words: b'children', b'family', b'provides', b\"'s\", b'programs', b'services', b'living', b'supportive', b'serving', b'community',\n",
      "\n",
      "Cluster 7 words: b'help', b\"'s\", b'provides', b'living', b'community', b'works', b'organization', b'needs', b'programs', b'supportive',\n",
      "\n",
      "Cluster 8 words: b'serving', b'community', b'programs', b'mission', b'provides', b'people', b'needs', b\"'s\", b'services', b'organization',\n",
      "\n",
      "Cluster 9 words: b'community', b'living', b'people', b'educational', b'works', b\"'s\", b'needs', b'mission', b'family', b'organization',\n",
      "\n",
      "Cluster 10 words: b'family', b'provides', b'services', b'community', b'help', b'supportive', b'programs', b'educational', b\"'s\", b'works',\n",
      "\n",
      "Cluster 11 words: b\"'s\", b'programs', b'educational', b'mission', b'community', b'provides', b'people', b'serving', b'development', b'services',\n",
      "\n",
      "Cluster 12 words: b'organization', b'educational', b'community', b'provides', b'mission', b'people', b'supportive', b'programs', b'works', b\"'s\",\n",
      "\n",
      "Cluster 13 words: b'programs', b'provides', b'educational', b'community', b'people', b\"'s\", b'services', b'mission', b'children', b'serving',\n",
      "\n",
      "Cluster 14 words: b'provides', b'services', b'programs', b'community', b'educational', b'mission', b\"'s\", b'people', b'supportive', b'needs',\n",
      "\n",
      "Cluster 15 words: b\"'s\", b'works', b'educational', b'programs', b'mission', b'community', b'provides', b'supportive', b'people', b'serving',\n",
      "\n",
      "Cluster 16 words: b'works', b'organization', b'community', b'educational', b'people', b'supportive', b'provides', b'programs', b'development', b\"'s\",\n",
      "\n",
      "Cluster 17 words: b'educational', b'provides', b\"'s\", b'mission', b'community', b'organization', b'works', b'supportive', b'people', b'help',\n",
      "\n",
      "Cluster 18 words: b'services', b'provides', b'community', b'programs', b'supportive', b'educational', b\"'s\", b'mission', b'family', b'needs',\n",
      "\n",
      "Cluster 19 words: b'living', b'people', b\"'s\", b'mission', b'programs', b'educational', b'provides', b'works', b'community', b'supportive',\n",
      "\n",
      "Cluster 20 words: b\"'s\", b'mission', b'educational', b'community', b'provides', b'development', b'living', b'people', b'supportive', b'programs',\n",
      "\n",
      "Cluster 21 words: b'development', b'educational', b'community', b'programs', b\"'s\", b'works', b'mission', b'supportive', b'organization', b'provides',\n",
      "\n",
      "Cluster 22 words: b'people', b'help', b'community', b'works', b'needs', b'living', b'programs', b'services', b'provides', b\"'s\",\n",
      "\n",
      "Cluster 23 words: b'community', b'educational', b'organization', b'programs', b'provides', b'services', b'works', b'people', b'supportive', b'needs',\n",
      "\n",
      "Cluster 24 words: b'supportive', b'provides', b'educational', b'programs', b\"'s\", b'community', b'mission', b'organization', b'works', b'services',\n",
      "\n"
     ]
    }
   ],
   "source": [
    "from __future__ import print_function\n",
    "\n",
    "print(\"Top terms per cluster:\")\n",
    "print()\n",
    "#sort cluster centers by proximity to centroid\n",
    "order_centroids = km.cluster_centers_.argsort()[:, ::-1] \n",
    "\n",
    "for i in range(num_clusters):\n",
    "    print(\"Cluster %d words:\" % i, end='')\n",
    "    \n",
    "    for ind in order_centroids[i, :10]: #10 words per cluster\n",
    "        print(' %s' % vocab_frame.ix[terms[ind].split(' ')].values.tolist()[0][0].encode('utf-8', 'ignore'), end=',')\n",
    "    print() #add whitespace\n",
    "    print() #add whitespace"
   ]
  },
  {
   "cell_type": "markdown",
   "metadata": {},
   "source": [
    "Note: the \"word\" s come's from the 's expression "
   ]
  },
  {
   "cell_type": "markdown",
   "metadata": {},
   "source": [
    "4.Evaluation"
   ]
  },
  {
   "cell_type": "code",
   "execution_count": 104,
   "metadata": {
    "collapsed": false
   },
   "outputs": [],
   "source": [
    "NGOmissions = { 'title': titles, 'missions': missions, 'cluster': clusters}\n",
    "frame = pd.DataFrame(NGOmissions, index = [clusters] , columns = ['title', 'cluster', 'missions'])"
   ]
  },
  {
   "cell_type": "code",
   "execution_count": 105,
   "metadata": {
    "collapsed": false
   },
   "outputs": [],
   "source": [
    "ein=list(frame['title'].apply(lambda x: pd.Series(x.split('_')))[1])"
   ]
  },
  {
   "cell_type": "code",
   "execution_count": 106,
   "metadata": {
    "collapsed": false
   },
   "outputs": [],
   "source": [
    "NGOmissions2 = { 'title': titles, 'missions': missions, 'cluster': clusters,'EIN':ein}\n",
    "frame2 = pd.DataFrame(NGOmissions2, index = [clusters] , columns = ['title', 'cluster', 'missions','EIN'])"
   ]
  },
  {
   "cell_type": "code",
   "execution_count": 107,
   "metadata": {
    "collapsed": true
   },
   "outputs": [],
   "source": [
    "ngoms= df.merge(frame2, left_on='EIN', right_on='EIN', how='inner')"
   ]
  },
  {
   "cell_type": "code",
   "execution_count": 119,
   "metadata": {
    "collapsed": false,
    "scrolled": true
   },
   "outputs": [],
   "source": [
    "ngo_by_typecluster= ngoms.groupby(['NTEE Type (26)','cluster'])\n",
    "ngo_by_typecluster_count = ngo_by_typecluster['EIN'].count().unstack('NTEE Type (26)')"
   ]
  },
  {
   "cell_type": "code",
   "execution_count": 120,
   "metadata": {
    "collapsed": false
   },
   "outputs": [
    {
     "data": {
      "text/plain": [
       "<matplotlib.axes._subplots.AxesSubplot at 0x7fc519cae5f8>"
      ]
     },
     "execution_count": 120,
     "metadata": {},
     "output_type": "execute_result"
    },
    {
     "data": {
      "image/png": "[encoded data removed]",
      "text/plain": [
       "<matplotlib.figure.Figure at 0x7fc562b498d0>"
      ]
     },
     "metadata": {},
     "output_type": "display_data"
    }
   ],
   "source": [
    "ngo_by_typecluster_count.plot.bar(stacked=True, figsize=(20,40))"
   ]
  },
  {
   "cell_type": "markdown",
   "metadata": {},
   "source": [
    "To further extract the relationship between Kmean clustering and the IRS classification, I run a chi-square test of contingency. "
   ]
  },
  {
   "cell_type": "code",
   "execution_count": 125,
   "metadata": {
    "collapsed": false
   },
   "outputs": [],
   "source": [
    "from scipy.stats import chi2_contingency\n",
    "chi2, p, dof, ex =chi2_contingency(pd.crosstab(ngoms['NTEE Type (26)'], ngoms['cluster']))"
   ]
  },
  {
   "cell_type": "code",
   "execution_count": 126,
   "metadata": {
    "collapsed": false
   },
   "outputs": [
    {
     "data": {
      "text/plain": [
       "(4114.5838435464484, 0.0)"
      ]
     },
     "execution_count": 126,
     "metadata": {},
     "output_type": "execute_result"
    }
   ],
   "source": [
    "(chi2, p) "
   ]
  },
  {
   "cell_type": "markdown",
   "metadata": {},
   "source": [
    "To conclude, there is a significant relationship between our clustering result and the IRS classfication of Nonprofits, although that relationship is less explict and this is the topic for further research"
   ]
  },
  {
   "cell_type": "markdown",
   "metadata": {},
   "source": [
    "5.Application to the Testing Dataset"
   ]
  },
  {
   "cell_type": "markdown",
   "metadata": {},
   "source": [
    "Future application"
   ]
  },
  {
   "cell_type": "code",
   "execution_count": null,
   "metadata": {
    "collapsed": true
   },
   "outputs": [],
   "source": []
  }
 ],
 "metadata": {
  "kernelspec": {
   "display_name": "Python 3",
   "language": "python",
   "name": "python3"
  },
  "language_info": {
   "codemirror_mode": {
    "name": "ipython",
    "version": 3
   },
   "file_extension": ".py",
   "mimetype": "text/x-python",
   "name": "python",
   "nbconvert_exporter": "python",
   "pygments_lexer": "ipython3",
   "version": "3.5.1"
  }
 },
 "nbformat": 4,
 "nbformat_minor": 0
}
