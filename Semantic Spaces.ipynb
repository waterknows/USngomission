{
 "cells": [
  {
   "cell_type": "code",
   "execution_count": 1,
   "metadata": {
    "collapsed": true
   },
   "outputs": [],
   "source": [
    "import sys\n",
    "import csv\n",
    "import random\n",
    "import time\n",
    "import re\n",
    "import nltk\n",
    "from scipy.spatial.distance import cdist\n",
    "import numpy as np\n",
    "from __future__ import division\n",
    "import pprint"
   ]
  },
  {
   "cell_type": "code",
   "execution_count": 2,
   "metadata": {
    "collapsed": true
   },
   "outputs": [],
   "source": [
    "import pandas as pd\n",
    "import gensim\n",
    "from gensim import corpora, models, similarities\n",
    "from gensim.models.doc2vec import Doc2Vec, FAST_VERSION, TaggedDocument"
   ]
  },
  {
   "cell_type": "markdown",
   "metadata": {},
   "source": [
    "1.Data Input"
   ]
  },
  {
   "cell_type": "code",
   "execution_count": 3,
   "metadata": {
    "collapsed": false
   },
   "outputs": [],
   "source": [
    "df=pd.read_csv('ngoall.csv')"
   ]
  },
  {
   "cell_type": "code",
   "execution_count": 4,
   "metadata": {
    "collapsed": false
   },
   "outputs": [],
   "source": [
    "titles=list(df[['Name in IRS Master File','EIN']].apply(lambda x: '_'.join(x), axis=1))"
   ]
  },
  {
   "cell_type": "code",
   "execution_count": 5,
   "metadata": {
    "collapsed": false
   },
   "outputs": [],
   "source": [
    "missions=[]\n",
    "for title in titles:\n",
    "    with open('ngomission/'+title+'.txt', encoding='utf-8') as f:\n",
    "        txt=f.read()\n",
    "        missions.append(txt)"
   ]
  },
  {
   "cell_type": "markdown",
   "metadata": {},
   "source": [
    "2.Data Processing"
   ]
  },
  {
   "cell_type": "code",
   "execution_count": 35,
   "metadata": {
    "collapsed": true
   },
   "outputs": [],
   "source": [
    "stoplist = set('for a of the and to in'.split())"
   ]
  },
  {
   "cell_type": "code",
   "execution_count": 103,
   "metadata": {
    "collapsed": true
   },
   "outputs": [],
   "source": [
    "def tokenize(text):\n",
    "    # first tokenize by sentence, then by word to ensure that punctuation is caught as it's own token\n",
    "    tokens = [word.lower() for sent in nltk.sent_tokenize(text) for word in nltk.word_tokenize(sent)]\n",
    "    doc = []\n",
    "    # filter out any tokens not containing letters (e.g., numeric tokens, raw punctuation)\n",
    "    for token in tokens:\n",
    "        if token not in stoplist and re.search('[a-zA-Z]', token):\n",
    "            doc.append(token)\n",
    "    return doc\n",
    "docs=[]\n",
    "for i in missions:\n",
    "    doc=tokenize(i)\n",
    "    docs.append(doc)"
   ]
  },
  {
   "cell_type": "code",
   "execution_count": 65,
   "metadata": {
    "collapsed": true
   },
   "outputs": [],
   "source": [
    "from collections import defaultdict\n",
    "frequency = defaultdict(int)\n",
    "for doc in docs:\n",
    "    for token in doc:\n",
    "        frequency[token] +=1\n",
    "docs = [[token for token in doc if frequency[token] > 1]for doc in docs]"
   ]
  },
  {
   "cell_type": "markdown",
   "metadata": {},
   "source": [
    "3.Data Exploration"
   ]
  },
  {
   "cell_type": "code",
   "execution_count": 105,
   "metadata": {
    "collapsed": false,
    "scrolled": true
   },
   "outputs": [
    {
     "data": {
      "text/plain": [
       "[['‘aha',\n",
       "  'pūnana',\n",
       "  'leo',\n",
       "  'is',\n",
       "  'family-based',\n",
       "  'educational',\n",
       "  'organization',\n",
       "  'dedicated',\n",
       "  'revitalization',\n",
       "  'hawaiian',\n",
       "  'language',\n",
       "  'pūnana',\n",
       "  'leo',\n",
       "  'language',\n",
       "  'nest',\n",
       "  'provides',\n",
       "  'cultural',\n",
       "  'educational',\n",
       "  'environment',\n",
       "  'that',\n",
       "  'emulates',\n",
       "  'hawaiian',\n",
       "  'language',\n",
       "  'culture',\n",
       "  'pūnana',\n",
       "  'leo',\n",
       "  'is',\n",
       "  'member',\n",
       "  'consortium',\n",
       "  'an',\n",
       "  'internationally',\n",
       "  'recognized',\n",
       "  'association',\n",
       "  'schools',\n",
       "  'organizations',\n",
       "  'university',\n",
       "  'programs',\n",
       "  'hawaii',\n",
       "  'dedicated',\n",
       "  'reestablishing',\n",
       "  'hawaiian',\n",
       "  'as',\n",
       "  'first',\n",
       "  'main',\n",
       "  'language',\n",
       "  'home',\n",
       "  'pūnana',\n",
       "  'leo',\n",
       "  'family',\n",
       "  'initiates',\n",
       "  'provides',\n",
       "  'nurtures',\n",
       "  'various',\n",
       "  'hawaiian',\n",
       "  'language',\n",
       "  'environments',\n",
       "  'our',\n",
       "  'families',\n",
       "  'are',\n",
       "  'living',\n",
       "  'essence',\n",
       "  'these',\n",
       "  'environments',\n",
       "  'we',\n",
       "  'find',\n",
       "  'our',\n",
       "  'strength',\n",
       "  'our',\n",
       "  'spirituality',\n",
       "  'love',\n",
       "  'our',\n",
       "  'language',\n",
       "  'love',\n",
       "  'our',\n",
       "  'people',\n",
       "  'love',\n",
       "  'our',\n",
       "  'land',\n",
       "  'love',\n",
       "  'knowledge']]"
      ]
     },
     "execution_count": 105,
     "metadata": {},
     "output_type": "execute_result"
    }
   ],
   "source": [
    "docs[:1]"
   ]
  },
  {
   "cell_type": "code",
   "execution_count": 67,
   "metadata": {
    "collapsed": false
   },
   "outputs": [
    {
     "data": {
      "text/plain": [
       "8197"
      ]
     },
     "execution_count": 67,
     "metadata": {},
     "output_type": "execute_result"
    }
   ],
   "source": [
    "len(docs)"
   ]
  },
  {
   "cell_type": "markdown",
   "metadata": {},
   "source": [
    "4.Feature Generation"
   ]
  },
  {
   "cell_type": "code",
   "execution_count": 106,
   "metadata": {
    "collapsed": false
   },
   "outputs": [],
   "source": [
    "bigram = gensim.models.Phrases(docs)\n",
    "bigrammed = (bigram[docs])\n",
    "trigram = gensim.models.Phrases(bigrammed)\n",
    "trigrammed = (trigram[bigrammed])"
   ]
  },
  {
   "cell_type": "markdown",
   "metadata": {},
   "source": [
    "5.Modelling"
   ]
  },
  {
   "cell_type": "markdown",
   "metadata": {},
   "source": [
    "Word to Vector"
   ]
  },
  {
   "cell_type": "code",
   "execution_count": 107,
   "metadata": {
    "collapsed": false
   },
   "outputs": [
    {
     "name": "stdout",
     "output_type": "stream",
     "text": [
      "485.30168104171753\n"
     ]
    }
   ],
   "source": [
    "start = time.time()\n",
    "model = gensim.models.Word2Vec(trigrammed, workers=4, batch_words=10000)\n",
    "\n",
    "for iteration in range(10):\n",
    "    model.train(trigrammed)\n",
    "\n",
    "vocab_matrix = model.syn0\n",
    "vocabulary = model.index2word\n",
    "\n",
    "model.save('MissionsW2V')\n",
    "end = time.time()\n",
    "print(end - start)"
   ]
  },
  {
   "cell_type": "markdown",
   "metadata": {},
   "source": [
    "Doc to Vector"
   ]
  },
  {
   "cell_type": "code",
   "execution_count": null,
   "metadata": {
    "collapsed": true
   },
   "outputs": [],
   "source": []
  },
  {
   "cell_type": "markdown",
   "metadata": {},
   "source": [
    "6.Evaluation"
   ]
  },
  {
   "cell_type": "code",
   "execution_count": 108,
   "metadata": {
    "collapsed": false
   },
   "outputs": [],
   "source": [
    "w2v = gensim.models.Word2Vec.load('MissionsW2V')"
   ]
  },
  {
   "cell_type": "code",
   "execution_count": 109,
   "metadata": {
    "collapsed": false
   },
   "outputs": [
    {
     "data": {
      "text/plain": [
       "array([-0.47883525,  1.39619672, -1.11317945, -0.69235086, -2.61523104,\n",
       "        1.79159832, -0.9246214 , -0.62084085,  0.8141697 ,  0.27155262,\n",
       "       -0.52180171, -0.4197911 ,  1.2754041 ,  1.40926552, -0.17711297,\n",
       "        1.82477164,  2.10545039,  0.39466086, -0.38332242, -2.45149159,\n",
       "       -1.30801129, -0.52910906, -2.52472878,  0.8167603 , -1.39252615,\n",
       "       -0.60964322,  0.6083827 ,  0.38423875,  0.31054568,  1.5834558 ,\n",
       "       -0.72586739, -0.33901188,  1.77654541, -0.53230882,  0.68429178,\n",
       "       -1.74581039,  2.62307525, -2.88806415, -2.43315721,  0.69085068,\n",
       "        1.36657429, -1.761127  , -1.27641737, -0.94843   , -2.31261659,\n",
       "       -0.41608807, -1.59536123,  0.99103069, -1.20516801,  0.87436265,\n",
       "       -2.33065391, -0.07764923, -3.6261549 ,  0.07998333, -1.67541242,\n",
       "        1.87558091,  1.10198617, -1.5891521 ,  0.41734961, -0.213735  ,\n",
       "       -1.21290421,  0.36418834,  1.36866987,  0.26018289, -0.97716707,\n",
       "       -0.47556475,  0.55697936, -2.16553831, -0.81634772, -0.45443344,\n",
       "        1.18919075, -0.79192716,  2.79289341,  0.20513171,  1.65743482,\n",
       "       -1.03268361, -0.23822385,  0.78266823,  0.86286175,  1.60707223,\n",
       "       -0.30771756,  1.39337909,  0.7036171 ,  1.05723131, -0.7357071 ,\n",
       "       -0.77057654,  0.32342982, -0.527448  ,  0.13393748, -1.9027282 ,\n",
       "       -0.42119488,  0.3334122 ,  0.09690313,  0.03500075,  0.4793002 ,\n",
       "       -1.31706095, -0.22994326,  1.23644328, -0.56439871,  2.09982157], dtype=float32)"
      ]
     },
     "execution_count": 109,
     "metadata": {},
     "output_type": "execute_result"
    }
   ],
   "source": [
    "w2v['education']"
   ]
  },
  {
   "cell_type": "code",
   "execution_count": 110,
   "metadata": {
    "collapsed": false
   },
   "outputs": [
    {
     "data": {
      "text/plain": [
       "0.045308951966923909"
      ]
     },
     "execution_count": 110,
     "metadata": {},
     "output_type": "execute_result"
    }
   ],
   "source": [
    "w2v.similarity('women', 'family')"
   ]
  },
  {
   "cell_type": "code",
   "execution_count": 111,
   "metadata": {
    "collapsed": false
   },
   "outputs": [
    {
     "data": {
      "text/plain": [
       "0.38699667578156438"
      ]
     },
     "execution_count": 111,
     "metadata": {},
     "output_type": "execute_result"
    }
   ],
   "source": [
    "w2v.similarity('women', 'children')"
   ]
  },
  {
   "cell_type": "code",
   "execution_count": 112,
   "metadata": {
    "collapsed": false
   },
   "outputs": [
    {
     "data": {
      "text/plain": [
       "[('child', 0.35865381360054016),\n",
       " ('safety', 0.3565200865268707),\n",
       " ('health_safety', 0.3312123417854309),\n",
       " ('parent', 0.3298790752887726),\n",
       " ('parenting', 0.303944855928421),\n",
       " ('domestic_violence', 0.30320364236831665),\n",
       " ('economic_security', 0.30248308181762695),\n",
       " ('special', 0.30185288190841675),\n",
       " ('financial_stability', 0.29760926961898804),\n",
       " ('women_girls', 0.29752638936042786)]"
      ]
     },
     "execution_count": 112,
     "metadata": {},
     "output_type": "execute_result"
    }
   ],
   "source": [
    "w2v.most_similar(positive=['women', 'family'], negative=['men'], topn=10)"
   ]
  },
  {
   "cell_type": "code",
   "execution_count": 113,
   "metadata": {
    "collapsed": false
   },
   "outputs": [
    {
     "data": {
      "text/plain": [
       "[('rape', 0.5302175879478455),\n",
       " ('pregnant_women', 0.5212306976318359),\n",
       " ('sexually', 0.5152134895324707),\n",
       " ('domestic_violence', 0.5142741799354553),\n",
       " ('pregnancies', 0.5021679401397705),\n",
       " ('women_children', 0.49617135524749756),\n",
       " ('persons', 0.4905802607536316),\n",
       " ('transitional_housing', 0.48104992508888245),\n",
       " ('child_victims', 0.46751460433006287),\n",
       " ('teenagers', 0.4657415747642517)]"
      ]
     },
     "execution_count": 113,
     "metadata": {},
     "output_type": "execute_result"
    }
   ],
   "source": [
    "w2v.most_similar(positive=['women', 'victim'], topn=10)"
   ]
  },
  {
   "cell_type": "code",
   "execution_count": null,
   "metadata": {
    "collapsed": true
   },
   "outputs": [],
   "source": []
  }
 ],
 "metadata": {
  "kernelspec": {
   "display_name": "Python 3",
   "language": "python",
   "name": "python3"
  },
  "language_info": {
   "codemirror_mode": {
    "name": "ipython",
    "version": 3
   },
   "file_extension": ".py",
   "mimetype": "text/x-python",
   "name": "python",
   "nbconvert_exporter": "python",
   "pygments_lexer": "ipython3",
   "version": "3.5.1"
  }
 },
 "nbformat": 4,
 "nbformat_minor": 0
}
