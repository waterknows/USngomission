{
 "cells": [
  {
   "cell_type": "code",
   "execution_count": 1,
   "metadata": {
    "collapsed": true
   },
   "outputs": [],
   "source": [
    "import pandas as pd"
   ]
  },
  {
   "cell_type": "code",
   "execution_count": 2,
   "metadata": {
    "collapsed": true
   },
   "outputs": [],
   "source": [
    "import nltk"
   ]
  },
  {
   "cell_type": "code",
   "execution_count": 3,
   "metadata": {
    "collapsed": false
   },
   "outputs": [],
   "source": [
    "import os\n",
    "os.chdir('capp-455136')\n",
    "%matplotlib inline"
   ]
  },
  {
   "cell_type": "code",
   "execution_count": 4,
   "metadata": {
    "collapsed": true
   },
   "outputs": [],
   "source": [
    "from mlpipe import *"
   ]
  },
  {
   "cell_type": "code",
   "execution_count": 11,
   "metadata": {
    "collapsed": false
   },
   "outputs": [
    {
     "name": "stderr",
     "output_type": "stream",
     "text": [
      "C:\\Users\\yuxiao\\AppData\\Local\\Continuum\\Anaconda3\\lib\\site-packages\\IPython\\core\\interactiveshell.py:2902: DtypeWarning: Columns (4,65,66,67,68,69,70,71,72,73,74,75,76,77,78,79,80,81,82,83,84,85,86,87,88,89,90,91,92,93,94,95,96,97,98,99,100,101,102,103,104,105,106,107,108,109,110,111,112,113,114,115,116,119,121,122,123,124,125,126,127,128,129,130,131,132,134,135,136,137,138,139,140,145,147,150,151) have mixed types. Specify dtype option on import or set low_memory=False.\n",
      "  interactivity=interactivity, compiler=compiler, result=result)\n"
     ]
    }
   ],
   "source": [
    "df=pd.read_csv('990.csv',index_col=0,na_values='nan')"
   ]
  },
  {
   "cell_type": "code",
   "execution_count": 35,
   "metadata": {
    "collapsed": false
   },
   "outputs": [],
   "source": [
    "def generate_diff(data, name, year1, year2):\n",
    "    feature1=year1+'_'+name\n",
    "    feature2=year2+'_'+name\n",
    "    feature3=year2+'_'+name+'diff'\n",
    "    data[feature3]=data[feature2]-data[feature1]"
   ]
  },
  {
   "cell_type": "code",
   "execution_count": 36,
   "metadata": {
    "collapsed": true
   },
   "outputs": [],
   "source": [
    "def generate_diffper(data, name, year1, year2):\n",
    "    feature1=year1+'_'+name\n",
    "    feature2=year2+'_'+name\n",
    "    feature3=year2+'_'+name+'diffper'\n",
    "    data[feature3]=(data[feature2]-data[feature1])/data[feature2]"
   ]
  },
  {
   "cell_type": "code",
   "execution_count": 74,
   "metadata": {
    "collapsed": false
   },
   "outputs": [],
   "source": [
    "def discretize_binary(data, x, cap):\n",
    "    name=x +'2'\n",
    "    data[name]=data[x].apply(lambda x: 1 if x > cap else 0 if x <= cap else None) "
   ]
  },
  {
   "cell_type": "code",
   "execution_count": 38,
   "metadata": {
    "collapsed": false
   },
   "outputs": [],
   "source": [
    "generate_diff(df,'totrevenue','2012','2013')"
   ]
  },
  {
   "cell_type": "code",
   "execution_count": 82,
   "metadata": {
    "collapsed": true
   },
   "outputs": [],
   "source": [
    "generate_diff(df,'totrevenue','2013','2014')"
   ]
  },
  {
   "cell_type": "code",
   "execution_count": 40,
   "metadata": {
    "collapsed": true
   },
   "outputs": [],
   "source": [
    "generate_diffper(df,'totrevenue','2012','2013')"
   ]
  },
  {
   "cell_type": "code",
   "execution_count": 83,
   "metadata": {
    "collapsed": true
   },
   "outputs": [],
   "source": [
    "generate_diffper(df,'totrevenue','2013','2014')"
   ]
  },
  {
   "cell_type": "code",
   "execution_count": 75,
   "metadata": {
    "collapsed": false,
    "scrolled": true
   },
   "outputs": [],
   "source": [
    "discretize_binary(df,'2013_totrevenuediffper',0)"
   ]
  },
  {
   "cell_type": "code",
   "execution_count": 84,
   "metadata": {
    "collapsed": true
   },
   "outputs": [],
   "source": [
    "discretize_binary(df,'2014_totrevenuediffper',0)"
   ]
  },
  {
   "cell_type": "code",
   "execution_count": 93,
   "metadata": {
    "collapsed": false,
    "scrolled": true
   },
   "outputs": [
    {
     "data": {
      "text/plain": [
       "count    269999.000000\n",
       "mean          0.554017\n",
       "std           0.497075\n",
       "min           0.000000\n",
       "25%           0.000000\n",
       "50%           1.000000\n",
       "75%           1.000000\n",
       "max           1.000000\n",
       "Name: 2013_totrevenuediffper2, dtype: float64"
      ]
     },
     "execution_count": 93,
     "metadata": {},
     "output_type": "execute_result"
    }
   ],
   "source": [
    "df['2013_totrevenuediffper2'].describe()"
   ]
  },
  {
   "cell_type": "code",
   "execution_count": 92,
   "metadata": {
    "collapsed": false
   },
   "outputs": [
    {
     "data": {
      "text/plain": [
       "count    276265.000000\n",
       "mean          0.573301\n",
       "std           0.494599\n",
       "min           0.000000\n",
       "25%           0.000000\n",
       "50%           1.000000\n",
       "75%           1.000000\n",
       "max           1.000000\n",
       "Name: 2014_totrevenuediffper2, dtype: float64"
      ]
     },
     "execution_count": 92,
     "metadata": {},
     "output_type": "execute_result"
    }
   ],
   "source": [
    "df['2014_totrevenuediffper2'].describe()"
   ]
  },
  {
   "cell_type": "code",
   "execution_count": 86,
   "metadata": {
    "collapsed": true
   },
   "outputs": [],
   "source": [
    "from sklearn import metrics"
   ]
  },
  {
   "cell_type": "code",
   "execution_count": 109,
   "metadata": {
    "collapsed": false
   },
   "outputs": [],
   "source": [
    "def metrics4(y_validate,y_pred):\n",
    "    accuracy = metrics.accuracy_score(y_validate, y_pred)\n",
    "    precision = metrics.precision_score(y_validate, y_pred)\n",
    "    recall = metrics.recall_score(y_validate, y_pred)\n",
    "    F1 = metrics.f1_score(y_validate, y_pred)\n",
    "    print('Accuracy:',accuracy)\n",
    "    print('Precision:',precision)\n",
    "    print('Recall:',recall)\n",
    "    print('F1:',F1)"
   ]
  },
  {
   "cell_type": "code",
   "execution_count": 110,
   "metadata": {
    "collapsed": false
   },
   "outputs": [
    {
     "name": "stdout",
     "output_type": "stream",
     "text": [
      "Accuracy: 0.474475127949\n",
      "Precision: 0.5435052039\n",
      "Recall: 0.53044777207\n",
      "F1: 0.536897109963\n"
     ]
    }
   ],
   "source": [
    "metrics4(df['2014_totrevenuediffper2'],df['2013_totrevenuediffper2'])"
   ]
  },
  {
   "cell_type": "code",
   "execution_count": 96,
   "metadata": {
    "collapsed": false
   },
   "outputs": [],
   "source": [
    "df.dropna(subset=['2013_totrevenuediffper2','2014_totrevenuediffper2'], how='any',inplace=True)"
   ]
  },
  {
   "cell_type": "code",
   "execution_count": 112,
   "metadata": {
    "collapsed": false
   },
   "outputs": [],
   "source": [
    "df.drop('EIN_y', axis=1, inplace=True)"
   ]
  },
  {
   "cell_type": "code",
   "execution_count": 113,
   "metadata": {
    "collapsed": false
   },
   "outputs": [
    {
     "data": {
      "text/plain": [
       "['EIN_x',\n",
       " '2012_tax_prd',\n",
       " '2012_subseccd',\n",
       " '2012_unrelbusinccd',\n",
       " '2012_initiationfees',\n",
       " '2012_grsrcptspublicuse',\n",
       " '2012_grsincmembers',\n",
       " '2012_grsincother',\n",
       " '2012_totcntrbgfts',\n",
       " '2012_totprgmrevnue',\n",
       " '2012_invstmntinc',\n",
       " '2012_txexmptbndsproceeds',\n",
       " '2012_royaltsinc',\n",
       " '2012_grsrntsreal',\n",
       " '2012_grsrntsprsnl',\n",
       " '2012_rntlexpnsreal',\n",
       " '2012_rntlexpnsprsnl',\n",
       " '2012_rntlincreal',\n",
       " '2012_rntlincprsnl',\n",
       " '2012_netrntlinc',\n",
       " '2012_grsalesecur',\n",
       " '2012_grsalesothr',\n",
       " '2012_cstbasisecur',\n",
       " '2012_cstbasisothr',\n",
       " '2012_gnlsecur',\n",
       " '2012_gnlsothr',\n",
       " '2012_netgnls',\n",
       " '2012_grsincfndrsng',\n",
       " '2012_lessdirfndrsng',\n",
       " '2012_netincfndrsng',\n",
       " '2012_grsincgaming',\n",
       " '2012_lessdirgaming',\n",
       " '2012_netincgaming',\n",
       " '2012_grsalesinvent',\n",
       " '2012_lesscstofgoods',\n",
       " '2012_netincsales',\n",
       " '2012_miscrevtot11e',\n",
       " '2012_totrevenue',\n",
       " '2012_compnsatncurrofcr',\n",
       " '2012_othrsalwages',\n",
       " '2012_payrolltx',\n",
       " '2012_profndraising',\n",
       " '2012_totfuncexpns',\n",
       " '2012_totassetsend',\n",
       " '2012_txexmptbndsend',\n",
       " '2012_secrdmrtgsend',\n",
       " '2012_unsecurednotesend',\n",
       " '2012_totliabend',\n",
       " '2012_retainedearnend',\n",
       " '2012_totnetassetend',\n",
       " '2012_nonpfrea',\n",
       " '2012_gftgrntsrcvd170',\n",
       " '2012_txrevnuelevied170',\n",
       " '2012_srvcsval170',\n",
       " '2012_grsinc170',\n",
       " '2012_grsrcptsrelated170',\n",
       " '2012_totgftgrntrcvd509',\n",
       " '2012_grsrcptsadmissn509',\n",
       " '2012_txrevnuelevied509',\n",
       " '2012_srvcsval509',\n",
       " '2012_subtotsuppinc509',\n",
       " '2012_totsupp509',\n",
       " '2013_tax_pd',\n",
       " '2013_subseccd',\n",
       " '2013_s501c3or4947a1cd',\n",
       " '2013_schdbind',\n",
       " '2013_politicalactvtscd',\n",
       " '2013_lbbyingactvtscd',\n",
       " '2013_subjto6033cd',\n",
       " '2013_dnradvisedfundscd',\n",
       " '2013_prptyintrcvdcd',\n",
       " '2013_maintwrkofartcd',\n",
       " '2013_crcounselingqstncd',\n",
       " '2013_hldassetsintermpermcd',\n",
       " '2013_rptlndbldgeqptcd',\n",
       " '2013_rptinvstothsecd',\n",
       " '2013_rptinvstprgrelcd',\n",
       " '2013_rptothasstcd',\n",
       " '2013_rptothliabcd',\n",
       " '2013_sepcnsldtfinstmtcd',\n",
       " '2013_sepindaudfinstmtcd',\n",
       " '2013_inclinfinstmtcd',\n",
       " '2013_operateschools170cd',\n",
       " '2013_frgnofficecd',\n",
       " '2013_frgnrevexpnscd',\n",
       " '2013_frgngrntscd',\n",
       " '2013_frgnaggragrntscd',\n",
       " '2013_rptprofndrsngfeescd',\n",
       " '2013_rptincfnndrsngcd',\n",
       " '2013_rptincgamingcd',\n",
       " '2013_operatehosptlcd',\n",
       " '2013_hospaudfinstmtcd',\n",
       " '2013_rptgrntstogovtcd',\n",
       " '2013_rptgrntstoindvcd',\n",
       " '2013_rptyestocompnstncd',\n",
       " '2013_txexmptbndcd',\n",
       " '2013_invstproceedscd',\n",
       " '2013_maintescrwaccntcd',\n",
       " '2013_actonbehalfcd',\n",
       " '2013_engageexcessbnftcd',\n",
       " '2013_awarexcessbnftcd',\n",
       " '2013_loantofficercd',\n",
       " '2013_grantoofficercd',\n",
       " '2013_dirbusnreltdcd',\n",
       " '2013_fmlybusnreltdcd',\n",
       " '2013_servasofficercd',\n",
       " '2013_recvnoncashcd',\n",
       " '2013_recvartcd',\n",
       " '2013_ceaseoperationscd',\n",
       " '2013_sellorexchcd',\n",
       " '2013_ownsepentcd',\n",
       " '2013_reltdorgcd',\n",
       " '2013_intincntrlcd',\n",
       " '2013_orgtrnsfrcd',\n",
       " '2013_conduct5percentcd',\n",
       " '2013_compltschocd',\n",
       " '2013_f1096cnt',\n",
       " '2013_fw2gcnt',\n",
       " '2013_wthldngrulescd',\n",
       " '2013_noemplyeesw3cnt',\n",
       " '2013_filerqrdrtnscd',\n",
       " '2013_unrelbusinccd',\n",
       " '2013_filedf990tcd',\n",
       " '2013_frgnacctcd',\n",
       " '2013_prohibtdtxshltrcd',\n",
       " '2013_prtynotifyorgcd',\n",
       " '2013_filedf8886tcd',\n",
       " '2013_solicitcntrbcd',\n",
       " '2013_exprstmntcd',\n",
       " '2013_providegoodscd',\n",
       " '2013_notfydnrvalcd',\n",
       " '2013_filedf8282cd',\n",
       " '2013_f8282cnt',\n",
       " '2013_fndsrcvdcd',\n",
       " '2013_premiumspaidcd',\n",
       " '2013_filedf8899cd',\n",
       " '2013_filedf1098ccd',\n",
       " '2013_excbushldngscd',\n",
       " '2013_s4966distribcd',\n",
       " '2013_distribtodonorcd',\n",
       " '2013_initiationfees',\n",
       " '2013_grsrcptspublicuse',\n",
       " '2013_grsincmembers',\n",
       " '2013_grsincother',\n",
       " '2013_filedlieuf1041cd',\n",
       " '2013_txexmptint',\n",
       " '2013_qualhlthplncd',\n",
       " '2013_qualhlthreqmntn',\n",
       " '2013_qualhlthonhnd',\n",
       " '2013_rcvdpdtngcd',\n",
       " '2013_filedf720cd',\n",
       " '2013_totreprtabled',\n",
       " '2013_totcomprelatede',\n",
       " '2013_totestcompf',\n",
       " '2013_noindiv100kcnt',\n",
       " '2013_nocontractor100kcnt',\n",
       " '2013_totcntrbgfts',\n",
       " '2013_prgmservcode2acd',\n",
       " '2013_totrev2acola',\n",
       " '2013_prgmservcode2bcd',\n",
       " '2013_totrev2bcola',\n",
       " '2013_prgmservcode2ccd',\n",
       " '2013_totrev2ccola',\n",
       " '2013_prgmservcode2dcd',\n",
       " '2013_totrev2dcola',\n",
       " '2013_prgmservcode2ecd',\n",
       " '2013_totrev2ecola',\n",
       " '2013_totrev2fcola',\n",
       " '2013_totprgmrevnue',\n",
       " '2013_invstmntinc',\n",
       " '2013_txexmptbndsproceeds',\n",
       " '2013_royaltsinc',\n",
       " '2013_grsrntsreal',\n",
       " '2013_grsrntsprsnl',\n",
       " '2013_rntlexpnsreal',\n",
       " '2013_rntlexpnsprsnl',\n",
       " '2013_rntlincreal',\n",
       " '2013_rntlincprsnl',\n",
       " '2013_netrntlinc',\n",
       " '2013_grsalesecur',\n",
       " '2013_grsalesothr',\n",
       " '2013_cstbasisecur',\n",
       " '2013_cstbasisothr',\n",
       " '2013_gnlsecur',\n",
       " '2013_gnlsothr',\n",
       " '2013_netgnls',\n",
       " '2013_grsincfndrsng',\n",
       " '2013_lessdirfndrsng',\n",
       " '2013_netincfndrsng',\n",
       " '2013_grsincgaming',\n",
       " '2013_lessdirgaming',\n",
       " '2013_netincgaming',\n",
       " '2013_grsalesinvent',\n",
       " '2013_lesscstofgoods',\n",
       " '2013_netincsales',\n",
       " '2013_miscrev11acd',\n",
       " '2013_miscrevtota',\n",
       " '2013_miscrev11bcd',\n",
       " '2013_miscrevtot11b',\n",
       " '2013_miscrev11ccd',\n",
       " '2013_miscrevtot11c',\n",
       " '2013_miscrevtot11d',\n",
       " '2013_miscrevtot11e',\n",
       " '2013_totrevenue',\n",
       " '2013_grntstogovt',\n",
       " '2013_grnsttoindiv',\n",
       " '2013_grntstofrgngovt',\n",
       " '2013_benifitsmembrs',\n",
       " '2013_compnsatncurrofcr',\n",
       " '2013_compnsatnandothr',\n",
       " '2013_othrsalwages',\n",
       " '2013_pensionplancontrb',\n",
       " '2013_othremplyeebenef',\n",
       " '2013_payrolltx',\n",
       " '2013_feesforsrvcmgmt',\n",
       " '2013_legalfees',\n",
       " '2013_accntingfees',\n",
       " '2013_feesforsrvclobby',\n",
       " '2013_profndraising',\n",
       " '2013_feesforsrvcinvstmgmt',\n",
       " '2013_feesforsrvcothr',\n",
       " '2013_advrtpromo',\n",
       " '2013_officexpns',\n",
       " '2013_infotech',\n",
       " '2013_royaltsexpns',\n",
       " '2013_occupancy',\n",
       " '2013_travel',\n",
       " '2013_travelofpublicoffcl',\n",
       " '2013_converconventmtng',\n",
       " '2013_interestamt',\n",
       " '2013_pymtoaffiliates',\n",
       " '2013_deprcatndepletn',\n",
       " '2013_insurance',\n",
       " '2013_othrexpnsa',\n",
       " '2013_othrexpnsb',\n",
       " '2013_othrexpnsc',\n",
       " '2013_othrexpnsd',\n",
       " '2013_othrexpnse',\n",
       " '2013_othrexpnsf',\n",
       " '2013_totfuncexpns',\n",
       " '2013_nonintcashend',\n",
       " '2013_svngstempinvend',\n",
       " '2013_pldgegrntrcvblend',\n",
       " '2013_accntsrcvblend',\n",
       " '2013_currfrmrcvblend',\n",
       " '2013_rcvbldisqualend',\n",
       " '2013_notesloansrcvblend',\n",
       " '2013_invntriesalesend',\n",
       " '2013_prepaidexpnsend',\n",
       " '2013_lndbldgsequipend',\n",
       " '2013_invstmntsend',\n",
       " '2013_invstmntsothrend',\n",
       " '2013_invstmntsprgmend',\n",
       " '2013_intangibleassetsend',\n",
       " '2013_othrassetsend',\n",
       " '2013_totassetsend',\n",
       " '2013_accntspayableend',\n",
       " '2013_grntspayableend',\n",
       " '2013_deferedrevnuend',\n",
       " '2013_txexmptbndsend',\n",
       " '2013_escrwaccntliabend',\n",
       " '2013_paybletoffcrsend',\n",
       " '2013_secrdmrtgsend',\n",
       " '2013_unsecurednotesend',\n",
       " '2013_othrliabend',\n",
       " '2013_totliabend',\n",
       " '2013_unrstrctnetasstsend',\n",
       " '2013_temprstrctnetasstsend',\n",
       " '2013_permrstrctnetasstsend',\n",
       " '2013_capitalstktrstend',\n",
       " '2013_paidinsurplusend',\n",
       " '2013_retainedearnend',\n",
       " '2013_totnetassetend',\n",
       " '2013_totnetliabastend',\n",
       " '2013_nonpfrea',\n",
       " '2013_totnooforgscnt',\n",
       " '2013_totsupport',\n",
       " '2013_gftgrntsrcvd170',\n",
       " '2013_txrevnuelevied170',\n",
       " '2013_srvcsval170',\n",
       " '2013_pubsuppsubtot170',\n",
       " '2013_exceeds2pct170',\n",
       " '2013_pubsupplesspct170',\n",
       " '2013_samepubsuppsubtot170',\n",
       " '2013_grsinc170',\n",
       " '2013_netincunreltd170',\n",
       " '2013_othrinc170',\n",
       " '2013_totsupp170',\n",
       " '2013_grsrcptsrelated170',\n",
       " '2013_totgftgrntrcvd509',\n",
       " '2013_grsrcptsadmissn509',\n",
       " '2013_grsrcptsactivities509',\n",
       " '2013_txrevnuelevied509',\n",
       " '2013_srvcsval509',\n",
       " '2013_pubsuppsubtot509',\n",
       " '2013_rcvdfrmdisqualsub509',\n",
       " '2013_exceeds1pct509',\n",
       " '2013_subtotpub509',\n",
       " '2013_pubsupplesub509',\n",
       " '2013_samepubsuppsubtot509',\n",
       " '2013_grsinc509',\n",
       " '2013_unreltxincls511tx509',\n",
       " '2013_subtotsuppinc509',\n",
       " '2013_netincunrelatd509',\n",
       " '2013_othrinc509',\n",
       " '2013_totsupp509',\n",
       " '2014_tax_prd',\n",
       " '2014_subseccd',\n",
       " '2014_s501c3or4947a1cd',\n",
       " '2014_schdbind',\n",
       " '2014_politicalactvtscd',\n",
       " '2014_lbbyingactvtscd',\n",
       " '2014_subjto6033cd',\n",
       " '2014_dnradvisedfundscd',\n",
       " '2014_prptyintrcvdcd',\n",
       " '2014_maintwrkofartcd',\n",
       " '2014_crcounselingqstncd',\n",
       " '2014_hldassetsintermpermcd',\n",
       " '2014_rptlndbldgeqptcd',\n",
       " '2014_rptinvstothsecd',\n",
       " '2014_rptinvstprgrelcd',\n",
       " '2014_rptothasstcd',\n",
       " '2014_rptothliabcd',\n",
       " '2014_sepcnsldtfinstmtcd',\n",
       " '2014_sepindaudfinstmtcd',\n",
       " '2014_inclinfinstmtcd',\n",
       " '2014_operateschools170cd',\n",
       " '2014_frgnofficecd',\n",
       " '2014_frgnrevexpnscd',\n",
       " '2014_frgngrntscd',\n",
       " '2014_frgnaggragrntscd',\n",
       " '2014_rptprofndrsngfeescd',\n",
       " '2014_rptincfnndrsngcd',\n",
       " '2014_rptincgamingcd',\n",
       " '2014_operatehosptlcd',\n",
       " '2014_hospaudfinstmtcd',\n",
       " '2014_rptgrntstogovtcd',\n",
       " '2014_rptgrntstoindvcd',\n",
       " '2014_rptyestocompnstncd',\n",
       " '2014_txexmptbndcd',\n",
       " '2014_invstproceedscd',\n",
       " '2014_maintescrwaccntcd',\n",
       " '2014_actonbehalfcd',\n",
       " '2014_engageexcessbnftcd',\n",
       " '2014_awarexcessbnftcd',\n",
       " '2014_loantofficercd',\n",
       " '2014_grantoofficercd',\n",
       " '2014_dirbusnreltdcd',\n",
       " '2014_fmlybusnreltdcd',\n",
       " '2014_servasofficercd',\n",
       " '2014_recvnoncashcd',\n",
       " '2014_recvartcd',\n",
       " '2014_ceaseoperationscd',\n",
       " '2014_sellorexchcd',\n",
       " '2014_ownsepentcd',\n",
       " '2014_reltdorgcd',\n",
       " '2014_intincntrlcd',\n",
       " '2014_orgtrnsfrcd',\n",
       " '2014_conduct5percentcd',\n",
       " '2014_compltschocd',\n",
       " '2014_f1096cnt',\n",
       " '2014_fw2gcnt',\n",
       " '2014_wthldngrulescd',\n",
       " '2014_noemplyeesw3cnt',\n",
       " '2014_filerqrdrtnscd',\n",
       " '2014_unrelbusinccd',\n",
       " '2014_filedf990tcd',\n",
       " '2014_frgnacctcd',\n",
       " '2014_prohibtdtxshltrcd',\n",
       " '2014_prtynotifyorgcd',\n",
       " '2014_filedf8886tcd',\n",
       " '2014_solicitcntrbcd',\n",
       " '2014_exprstmntcd',\n",
       " '2014_providegoodscd',\n",
       " '2014_notfydnrvalcd',\n",
       " '2014_filedf8282cd',\n",
       " '2014_f8282cnt',\n",
       " '2014_fndsrcvdcd',\n",
       " '2014_premiumspaidcd',\n",
       " '2014_filedf8899cd',\n",
       " '2014_filedf1098ccd',\n",
       " '2014_excbushldngscd',\n",
       " '2014_s4966distribcd',\n",
       " '2014_distribtodonorcd',\n",
       " '2014_initiationfees',\n",
       " '2014_grsrcptspublicuse',\n",
       " '2014_grsincmembers',\n",
       " '2014_grsincother',\n",
       " '2014_filedlieuf1041cd',\n",
       " '2014_txexmptint',\n",
       " '2014_qualhlthplncd',\n",
       " '2014_qualhlthreqmntn',\n",
       " '2014_qualhlthonhnd',\n",
       " '2014_rcvdpdtngcd',\n",
       " '2014_filedf720cd',\n",
       " '2014_totreprtabled',\n",
       " '2014_totcomprelatede',\n",
       " '2014_totestcompf',\n",
       " '2014_noindiv100kcnt',\n",
       " '2014_nocontractor100kcnt',\n",
       " '2014_totcntrbgfts',\n",
       " '2014_prgmservcode2acd',\n",
       " '2014_totrev2acola',\n",
       " '2014_prgmservcode2bcd',\n",
       " '2014_totrev2bcola',\n",
       " '2014_prgmservcode2ccd',\n",
       " '2014_totrev2ccola',\n",
       " '2014_prgmservcode2dcd',\n",
       " '2014_totrev2dcola',\n",
       " '2014_prgmservcode2ecd',\n",
       " '2014_totrev2ecola',\n",
       " '2014_totrev2fcola',\n",
       " '2014_totprgmrevnue',\n",
       " '2014_invstmntinc',\n",
       " '2014_txexmptbndsproceeds',\n",
       " '2014_royaltsinc',\n",
       " '2014_grsrntsreal',\n",
       " '2014_grsrntsprsnl',\n",
       " '2014_rntlexpnsreal',\n",
       " '2014_rntlexpnsprsnl',\n",
       " '2014_rntlincreal',\n",
       " '2014_rntlincprsnl',\n",
       " '2014_netrntlinc',\n",
       " '2014_grsalesecur',\n",
       " '2014_grsalesothr',\n",
       " '2014_cstbasisecur',\n",
       " '2014_cstbasisothr',\n",
       " '2014_gnlsecur',\n",
       " '2014_gnlsothr',\n",
       " '2014_netgnls',\n",
       " '2014_grsincfndrsng',\n",
       " '2014_lessdirfndrsng',\n",
       " '2014_netincfndrsng',\n",
       " '2014_grsincgaming',\n",
       " '2014_lessdirgaming',\n",
       " '2014_netincgaming',\n",
       " '2014_grsalesinvent',\n",
       " '2014_lesscstofgoods',\n",
       " '2014_netincsales',\n",
       " '2014_miscrev11acd',\n",
       " '2014_miscrevtota',\n",
       " '2014_miscrev11bcd',\n",
       " '2014_miscrevtot11b',\n",
       " '2014_miscrev11ccd',\n",
       " '2014_miscrevtot11c',\n",
       " '2014_miscrevtot11d',\n",
       " '2014_miscrevtot11e',\n",
       " '2014_totrevenue',\n",
       " '2014_grntstogovt',\n",
       " '2014_grnsttoindiv',\n",
       " '2014_grntstofrgngovt',\n",
       " '2014_benifitsmembrs',\n",
       " '2014_compnsatncurrofcr',\n",
       " '2014_compnsatnandothr',\n",
       " '2014_othrsalwages',\n",
       " '2014_pensionplancontrb',\n",
       " '2014_othremplyeebenef',\n",
       " '2014_payrolltx',\n",
       " '2014_feesforsrvcmgmt',\n",
       " '2014_legalfees',\n",
       " '2014_accntingfees',\n",
       " '2014_feesforsrvclobby',\n",
       " '2014_profndraising',\n",
       " '2014_feesforsrvcinvstmgmt',\n",
       " '2014_feesforsrvcothr',\n",
       " '2014_advrtpromo',\n",
       " '2014_officexpns',\n",
       " '2014_infotech',\n",
       " '2014_royaltsexpns',\n",
       " '2014_occupancy',\n",
       " '2014_travel',\n",
       " '2014_travelofpublicoffcl',\n",
       " '2014_converconventmtng',\n",
       " '2014_interestamt',\n",
       " '2014_pymtoaffiliates',\n",
       " '2014_deprcatndepletn',\n",
       " '2014_insurance',\n",
       " '2014_othrexpnsa',\n",
       " '2014_othrexpnsb',\n",
       " '2014_othrexpnsc',\n",
       " '2014_othrexpnsd',\n",
       " '2014_othrexpnse',\n",
       " '2014_othrexpnsf',\n",
       " '2014_totfuncexpns',\n",
       " '2014_nonintcashend',\n",
       " '2014_svngstempinvend',\n",
       " '2014_pldgegrntrcvblend',\n",
       " '2014_accntsrcvblend',\n",
       " '2014_currfrmrcvblend',\n",
       " '2014_rcvbldisqualend',\n",
       " '2014_notesloansrcvblend',\n",
       " '2014_invntriesalesend',\n",
       " '2014_prepaidexpnsend',\n",
       " '2014_lndbldgsequipend',\n",
       " '2014_invstmntsend',\n",
       " '2014_invstmntsothrend',\n",
       " '2014_invstmntsprgmend',\n",
       " '2014_intangibleassetsend',\n",
       " '2014_othrassetsend',\n",
       " '2014_totassetsend',\n",
       " '2014_accntspayableend',\n",
       " '2014_grntspayableend',\n",
       " '2014_deferedrevnuend',\n",
       " '2014_txexmptbndsend',\n",
       " '2014_escrwaccntliabend',\n",
       " '2014_paybletoffcrsend',\n",
       " '2014_secrdmrtgsend',\n",
       " '2014_unsecurednotesend',\n",
       " '2014_othrliabend',\n",
       " '2014_totliabend',\n",
       " '2014_unrstrctnetasstsend',\n",
       " '2014_temprstrctnetasstsend',\n",
       " '2014_permrstrctnetasstsend',\n",
       " '2014_capitalstktrstend',\n",
       " '2014_paidinsurplusend',\n",
       " '2014_retainedearnend',\n",
       " '2014_totnetassetend',\n",
       " '2014_totnetliabastend',\n",
       " '2014_nonpfrea',\n",
       " '2014_totnooforgscnt',\n",
       " '2014_totsupport',\n",
       " '2014_gftgrntsrcvd170',\n",
       " '2014_txrevnuelevied170',\n",
       " '2014_srvcsval170',\n",
       " '2014_pubsuppsubtot170',\n",
       " '2014_exceeds2pct170',\n",
       " '2014_pubsupplesspct170',\n",
       " '2014_samepubsuppsubtot170',\n",
       " '2014_grsinc170',\n",
       " '2014_netincunreltd170',\n",
       " '2014_othrinc170',\n",
       " '2014_totsupp170',\n",
       " '2014_grsrcptsrelated170',\n",
       " '2014_totgftgrntrcvd509',\n",
       " '2014_grsrcptsadmissn509',\n",
       " '2014_grsrcptsactivities509',\n",
       " '2014_txrevnuelevied509',\n",
       " '2014_srvcsval509',\n",
       " '2014_pubsuppsubtot509',\n",
       " '2014_rcvdfrmdisqualsub509',\n",
       " '2014_exceeds1pct509',\n",
       " '2014_subtotpub509',\n",
       " '2014_pubsupplesub509',\n",
       " '2014_samepubsuppsubtot509',\n",
       " '2014_grsinc509',\n",
       " '2014_unreltxincls511tx509',\n",
       " '2014_subtotsuppinc509',\n",
       " '2014_netincunrelatd509',\n",
       " '2014_othrinc509',\n",
       " '2014_totsupp509',\n",
       " 'NAME',\n",
       " 'ZIP',\n",
       " 'MSA1',\n",
       " 'NTEE_CD',\n",
       " '2013_totrevenuediff',\n",
       " '2013_totrevenuediffper',\n",
       " '2013_totrevenuediffper2',\n",
       " '2014_totrevenuediff',\n",
       " '2014_totrevenuediffper',\n",
       " '2014_totrevenuediffper2']"
      ]
     },
     "execution_count": 113,
     "metadata": {},
     "output_type": "execute_result"
    }
   ],
   "source": [
    "list(df.columns.values)"
   ]
  },
  {
   "cell_type": "code",
   "execution_count": 150,
   "metadata": {
    "collapsed": true
   },
   "outputs": [],
   "source": [
    "from sklearn.ensemble import RandomForestClassifier"
   ]
  },
  {
   "cell_type": "code",
   "execution_count": 147,
   "metadata": {
    "collapsed": true
   },
   "outputs": [],
   "source": [
    "def summary_xy(df,y):\n",
    "    #random forest\n",
    "    clf = RandomForestClassifier()\n",
    "    clf.fit(df, y)\n",
    "    importances = clf.feature_importances_\n",
    "    sorted_idx = np.argsort(importances)\n",
    "    best_features = features[sorted_idx][::-1]\n",
    "    return best_features"
   ]
  },
  {
   "cell_type": "code",
   "execution_count": 153,
   "metadata": {
    "collapsed": false
   },
   "outputs": [
    {
     "ename": "KeyboardInterrupt",
     "evalue": "",
     "output_type": "error",
     "traceback": [
      "\u001b[1;31m---------------------------------------------------------------------------\u001b[0m",
      "\u001b[1;31mKeyboardInterrupt\u001b[0m                         Traceback (most recent call last)",
      "\u001b[1;32m<ipython-input-153-5186932e0c56>\u001b[0m in \u001b[0;36m<module>\u001b[1;34m()\u001b[0m\n\u001b[1;32m----> 1\u001b[1;33m \u001b[0mdf\u001b[0m\u001b[1;33m.\u001b[0m\u001b[0mdropna\u001b[0m\u001b[1;33m(\u001b[0m\u001b[0msubset\u001b[0m\u001b[1;33m=\u001b[0m\u001b[0mdf\u001b[0m\u001b[1;33m.\u001b[0m\u001b[0mcolumns\u001b[0m\u001b[1;33m[\u001b[0m\u001b[1;33m:\u001b[0m\u001b[1;36m306\u001b[0m\u001b[1;33m]\u001b[0m\u001b[1;33m,\u001b[0m \u001b[0mhow\u001b[0m\u001b[1;33m=\u001b[0m\u001b[1;34m'any'\u001b[0m\u001b[1;33m,\u001b[0m\u001b[0minplace\u001b[0m\u001b[1;33m=\u001b[0m\u001b[1;32mTrue\u001b[0m\u001b[1;33m)\u001b[0m\u001b[1;33m\u001b[0m\u001b[0m\n\u001b[0m",
      "\u001b[1;32mC:\\Users\\yuxiao\\AppData\\Local\\Continuum\\Anaconda3\\lib\\site-packages\\pandas\\core\\frame.py\u001b[0m in \u001b[0;36mdropna\u001b[1;34m(self, axis, how, thresh, subset, inplace)\u001b[0m\n\u001b[0;32m   2971\u001b[0m                     \u001b[1;32mraise\u001b[0m \u001b[0mTypeError\u001b[0m\u001b[1;33m(\u001b[0m\u001b[1;34m'must specify how or thresh'\u001b[0m\u001b[1;33m)\u001b[0m\u001b[1;33m\u001b[0m\u001b[0m\n\u001b[0;32m   2972\u001b[0m \u001b[1;33m\u001b[0m\u001b[0m\n\u001b[1;32m-> 2973\u001b[1;33m             \u001b[0mresult\u001b[0m \u001b[1;33m=\u001b[0m \u001b[0mself\u001b[0m\u001b[1;33m.\u001b[0m\u001b[0mtake\u001b[0m\u001b[1;33m(\u001b[0m\u001b[0mmask\u001b[0m\u001b[1;33m.\u001b[0m\u001b[0mnonzero\u001b[0m\u001b[1;33m(\u001b[0m\u001b[1;33m)\u001b[0m\u001b[1;33m[\u001b[0m\u001b[1;36m0\u001b[0m\u001b[1;33m]\u001b[0m\u001b[1;33m,\u001b[0m \u001b[0maxis\u001b[0m\u001b[1;33m=\u001b[0m\u001b[0maxis\u001b[0m\u001b[1;33m,\u001b[0m \u001b[0mconvert\u001b[0m\u001b[1;33m=\u001b[0m\u001b[1;32mFalse\u001b[0m\u001b[1;33m)\u001b[0m\u001b[1;33m\u001b[0m\u001b[0m\n\u001b[0m\u001b[0;32m   2974\u001b[0m \u001b[1;33m\u001b[0m\u001b[0m\n\u001b[0;32m   2975\u001b[0m         \u001b[1;32mif\u001b[0m \u001b[0minplace\u001b[0m\u001b[1;33m:\u001b[0m\u001b[1;33m\u001b[0m\u001b[0m\n",
      "\u001b[1;32mC:\\Users\\yuxiao\\AppData\\Local\\Continuum\\Anaconda3\\lib\\site-packages\\pandas\\core\\generic.py\u001b[0m in \u001b[0;36mtake\u001b[1;34m(self, indices, axis, convert, is_copy)\u001b[0m\n\u001b[0;32m   1369\u001b[0m         new_data = self._data.take(indices,\n\u001b[0;32m   1370\u001b[0m                                    \u001b[0maxis\u001b[0m\u001b[1;33m=\u001b[0m\u001b[0mself\u001b[0m\u001b[1;33m.\u001b[0m\u001b[0m_get_block_manager_axis\u001b[0m\u001b[1;33m(\u001b[0m\u001b[0maxis\u001b[0m\u001b[1;33m)\u001b[0m\u001b[1;33m,\u001b[0m\u001b[1;33m\u001b[0m\u001b[0m\n\u001b[1;32m-> 1371\u001b[1;33m                                    convert=True, verify=True)\n\u001b[0m\u001b[0;32m   1372\u001b[0m         \u001b[0mresult\u001b[0m \u001b[1;33m=\u001b[0m \u001b[0mself\u001b[0m\u001b[1;33m.\u001b[0m\u001b[0m_constructor\u001b[0m\u001b[1;33m(\u001b[0m\u001b[0mnew_data\u001b[0m\u001b[1;33m)\u001b[0m\u001b[1;33m.\u001b[0m\u001b[0m__finalize__\u001b[0m\u001b[1;33m(\u001b[0m\u001b[0mself\u001b[0m\u001b[1;33m)\u001b[0m\u001b[1;33m\u001b[0m\u001b[0m\n\u001b[0;32m   1373\u001b[0m \u001b[1;33m\u001b[0m\u001b[0m\n",
      "\u001b[1;32mC:\\Users\\yuxiao\\AppData\\Local\\Continuum\\Anaconda3\\lib\\site-packages\\pandas\\core\\internals.py\u001b[0m in \u001b[0;36mtake\u001b[1;34m(self, indexer, axis, verify, convert)\u001b[0m\n\u001b[0;32m   3626\u001b[0m         \u001b[0mnew_labels\u001b[0m \u001b[1;33m=\u001b[0m \u001b[0mself\u001b[0m\u001b[1;33m.\u001b[0m\u001b[0maxes\u001b[0m\u001b[1;33m[\u001b[0m\u001b[0maxis\u001b[0m\u001b[1;33m]\u001b[0m\u001b[1;33m.\u001b[0m\u001b[0mtake\u001b[0m\u001b[1;33m(\u001b[0m\u001b[0mindexer\u001b[0m\u001b[1;33m)\u001b[0m\u001b[1;33m\u001b[0m\u001b[0m\n\u001b[0;32m   3627\u001b[0m         return self.reindex_indexer(new_axis=new_labels, indexer=indexer,\n\u001b[1;32m-> 3628\u001b[1;33m                                     axis=axis, allow_dups=True)\n\u001b[0m\u001b[0;32m   3629\u001b[0m \u001b[1;33m\u001b[0m\u001b[0m\n\u001b[0;32m   3630\u001b[0m     \u001b[1;32mdef\u001b[0m \u001b[0mmerge\u001b[0m\u001b[1;33m(\u001b[0m\u001b[0mself\u001b[0m\u001b[1;33m,\u001b[0m \u001b[0mother\u001b[0m\u001b[1;33m,\u001b[0m \u001b[0mlsuffix\u001b[0m\u001b[1;33m=\u001b[0m\u001b[1;34m''\u001b[0m\u001b[1;33m,\u001b[0m \u001b[0mrsuffix\u001b[0m\u001b[1;33m=\u001b[0m\u001b[1;34m''\u001b[0m\u001b[1;33m)\u001b[0m\u001b[1;33m:\u001b[0m\u001b[1;33m\u001b[0m\u001b[0m\n",
      "\u001b[1;32mC:\\Users\\yuxiao\\AppData\\Local\\Continuum\\Anaconda3\\lib\\site-packages\\pandas\\core\\internals.py\u001b[0m in \u001b[0;36mreindex_indexer\u001b[1;34m(self, new_axis, indexer, axis, fill_value, allow_dups, copy)\u001b[0m\n\u001b[0;32m   3513\u001b[0m                                       fill_tuple=(fill_value if fill_value is not None else\n\u001b[0;32m   3514\u001b[0m                                                   blk.fill_value,))\n\u001b[1;32m-> 3515\u001b[1;33m                           for blk in self.blocks]\n\u001b[0m\u001b[0;32m   3516\u001b[0m \u001b[1;33m\u001b[0m\u001b[0m\n\u001b[0;32m   3517\u001b[0m         \u001b[0mnew_axes\u001b[0m \u001b[1;33m=\u001b[0m \u001b[0mlist\u001b[0m\u001b[1;33m(\u001b[0m\u001b[0mself\u001b[0m\u001b[1;33m.\u001b[0m\u001b[0maxes\u001b[0m\u001b[1;33m)\u001b[0m\u001b[1;33m\u001b[0m\u001b[0m\n",
      "\u001b[1;32mC:\\Users\\yuxiao\\AppData\\Local\\Continuum\\Anaconda3\\lib\\site-packages\\pandas\\core\\internals.py\u001b[0m in \u001b[0;36m<listcomp>\u001b[1;34m(.0)\u001b[0m\n\u001b[0;32m   3513\u001b[0m                                       fill_tuple=(fill_value if fill_value is not None else\n\u001b[0;32m   3514\u001b[0m                                                   blk.fill_value,))\n\u001b[1;32m-> 3515\u001b[1;33m                           for blk in self.blocks]\n\u001b[0m\u001b[0;32m   3516\u001b[0m \u001b[1;33m\u001b[0m\u001b[0m\n\u001b[0;32m   3517\u001b[0m         \u001b[0mnew_axes\u001b[0m \u001b[1;33m=\u001b[0m \u001b[0mlist\u001b[0m\u001b[1;33m(\u001b[0m\u001b[0mself\u001b[0m\u001b[1;33m.\u001b[0m\u001b[0maxes\u001b[0m\u001b[1;33m)\u001b[0m\u001b[1;33m\u001b[0m\u001b[0m\n",
      "\u001b[1;32mC:\\Users\\yuxiao\\AppData\\Local\\Continuum\\Anaconda3\\lib\\site-packages\\pandas\\core\\internals.py\u001b[0m in \u001b[0;36mtake_nd\u001b[1;34m(self, indexer, axis, new_mgr_locs, fill_tuple)\u001b[0m\n\u001b[0;32m    986\u001b[0m             \u001b[0mfill_value\u001b[0m \u001b[1;33m=\u001b[0m \u001b[0mfill_tuple\u001b[0m\u001b[1;33m[\u001b[0m\u001b[1;36m0\u001b[0m\u001b[1;33m]\u001b[0m\u001b[1;33m\u001b[0m\u001b[0m\n\u001b[0;32m    987\u001b[0m             new_values = com.take_nd(values, indexer, axis=axis,\n\u001b[1;32m--> 988\u001b[1;33m                                      allow_fill=True, fill_value=fill_value)\n\u001b[0m\u001b[0;32m    989\u001b[0m \u001b[1;33m\u001b[0m\u001b[0m\n\u001b[0;32m    990\u001b[0m         \u001b[1;32mif\u001b[0m \u001b[0mnew_mgr_locs\u001b[0m \u001b[1;32mis\u001b[0m \u001b[1;32mNone\u001b[0m\u001b[1;33m:\u001b[0m\u001b[1;33m\u001b[0m\u001b[0m\n",
      "\u001b[1;31mKeyboardInterrupt\u001b[0m: "
     ]
    }
   ],
   "source": [
    "df.dropna(subset=df.columns[:306], how='any',inplace=True)"
   ]
  },
  {
   "cell_type": "code",
   "execution_count": null,
   "metadata": {
    "collapsed": true
   },
   "outputs": [],
   "source": [
    "len(df)"
   ]
  },
  {
   "cell_type": "code",
   "execution_count": 151,
   "metadata": {
    "collapsed": false
   },
   "outputs": [
    {
     "ename": "ValueError",
     "evalue": "could not convert string to float: 'N'",
     "output_type": "error",
     "traceback": [
      "\u001b[1;31m---------------------------------------------------------------------------\u001b[0m",
      "\u001b[1;31mValueError\u001b[0m                                Traceback (most recent call last)",
      "\u001b[1;32m<ipython-input-151-f777651e1dc0>\u001b[0m in \u001b[0;36m<module>\u001b[1;34m()\u001b[0m\n\u001b[1;32m----> 1\u001b[1;33m \u001b[0msummary_xy\u001b[0m\u001b[1;33m(\u001b[0m\u001b[0mdf\u001b[0m\u001b[1;33m[\u001b[0m\u001b[0mdf\u001b[0m\u001b[1;33m.\u001b[0m\u001b[0mcolumns\u001b[0m\u001b[1;33m[\u001b[0m\u001b[1;33m:\u001b[0m\u001b[1;36m306\u001b[0m\u001b[1;33m]\u001b[0m\u001b[1;33m]\u001b[0m\u001b[1;33m,\u001b[0m\u001b[0mdf\u001b[0m\u001b[1;33m[\u001b[0m\u001b[1;34m'2014_totrevenuediffper2'\u001b[0m\u001b[1;33m]\u001b[0m\u001b[1;33m)\u001b[0m\u001b[1;33m\u001b[0m\u001b[0m\n\u001b[0m",
      "\u001b[1;32m<ipython-input-147-8ea071c13cfe>\u001b[0m in \u001b[0;36msummary_xy\u001b[1;34m(df, y)\u001b[0m\n\u001b[0;32m      2\u001b[0m     \u001b[1;31m#random forest\u001b[0m\u001b[1;33m\u001b[0m\u001b[1;33m\u001b[0m\u001b[0m\n\u001b[0;32m      3\u001b[0m     \u001b[0mclf\u001b[0m \u001b[1;33m=\u001b[0m \u001b[0mRandomForestClassifier\u001b[0m\u001b[1;33m(\u001b[0m\u001b[1;33m)\u001b[0m\u001b[1;33m\u001b[0m\u001b[0m\n\u001b[1;32m----> 4\u001b[1;33m     \u001b[0mclf\u001b[0m\u001b[1;33m.\u001b[0m\u001b[0mfit\u001b[0m\u001b[1;33m(\u001b[0m\u001b[0mdf\u001b[0m\u001b[1;33m,\u001b[0m \u001b[0my\u001b[0m\u001b[1;33m)\u001b[0m\u001b[1;33m\u001b[0m\u001b[0m\n\u001b[0m\u001b[0;32m      5\u001b[0m     \u001b[0mimportances\u001b[0m \u001b[1;33m=\u001b[0m \u001b[0mclf\u001b[0m\u001b[1;33m.\u001b[0m\u001b[0mfeature_importances_\u001b[0m\u001b[1;33m\u001b[0m\u001b[0m\n\u001b[0;32m      6\u001b[0m     \u001b[0msorted_idx\u001b[0m \u001b[1;33m=\u001b[0m \u001b[0mnp\u001b[0m\u001b[1;33m.\u001b[0m\u001b[0margsort\u001b[0m\u001b[1;33m(\u001b[0m\u001b[0mimportances\u001b[0m\u001b[1;33m)\u001b[0m\u001b[1;33m\u001b[0m\u001b[0m\n",
      "\u001b[1;32mC:\\Users\\yuxiao\\AppData\\Local\\Continuum\\Anaconda3\\lib\\site-packages\\sklearn\\ensemble\\forest.py\u001b[0m in \u001b[0;36mfit\u001b[1;34m(self, X, y, sample_weight)\u001b[0m\n\u001b[0;32m    210\u001b[0m         \"\"\"\n\u001b[0;32m    211\u001b[0m         \u001b[1;31m# Validate or convert input data\u001b[0m\u001b[1;33m\u001b[0m\u001b[1;33m\u001b[0m\u001b[0m\n\u001b[1;32m--> 212\u001b[1;33m         \u001b[0mX\u001b[0m \u001b[1;33m=\u001b[0m \u001b[0mcheck_array\u001b[0m\u001b[1;33m(\u001b[0m\u001b[0mX\u001b[0m\u001b[1;33m,\u001b[0m \u001b[0mdtype\u001b[0m\u001b[1;33m=\u001b[0m\u001b[0mDTYPE\u001b[0m\u001b[1;33m,\u001b[0m \u001b[0maccept_sparse\u001b[0m\u001b[1;33m=\u001b[0m\u001b[1;34m\"csc\"\u001b[0m\u001b[1;33m)\u001b[0m\u001b[1;33m\u001b[0m\u001b[0m\n\u001b[0m\u001b[0;32m    213\u001b[0m         \u001b[1;32mif\u001b[0m \u001b[0missparse\u001b[0m\u001b[1;33m(\u001b[0m\u001b[0mX\u001b[0m\u001b[1;33m)\u001b[0m\u001b[1;33m:\u001b[0m\u001b[1;33m\u001b[0m\u001b[0m\n\u001b[0;32m    214\u001b[0m             \u001b[1;31m# Pre-sort indices to avoid that each individual tree of the\u001b[0m\u001b[1;33m\u001b[0m\u001b[1;33m\u001b[0m\u001b[0m\n",
      "\u001b[1;32mC:\\Users\\yuxiao\\AppData\\Local\\Continuum\\Anaconda3\\lib\\site-packages\\sklearn\\utils\\validation.py\u001b[0m in \u001b[0;36mcheck_array\u001b[1;34m(array, accept_sparse, dtype, order, copy, force_all_finite, ensure_2d, allow_nd, ensure_min_samples, ensure_min_features, warn_on_dtype, estimator)\u001b[0m\n\u001b[0;32m    371\u001b[0m                                       force_all_finite)\n\u001b[0;32m    372\u001b[0m     \u001b[1;32melse\u001b[0m\u001b[1;33m:\u001b[0m\u001b[1;33m\u001b[0m\u001b[0m\n\u001b[1;32m--> 373\u001b[1;33m         \u001b[0marray\u001b[0m \u001b[1;33m=\u001b[0m \u001b[0mnp\u001b[0m\u001b[1;33m.\u001b[0m\u001b[0marray\u001b[0m\u001b[1;33m(\u001b[0m\u001b[0marray\u001b[0m\u001b[1;33m,\u001b[0m \u001b[0mdtype\u001b[0m\u001b[1;33m=\u001b[0m\u001b[0mdtype\u001b[0m\u001b[1;33m,\u001b[0m \u001b[0morder\u001b[0m\u001b[1;33m=\u001b[0m\u001b[0morder\u001b[0m\u001b[1;33m,\u001b[0m \u001b[0mcopy\u001b[0m\u001b[1;33m=\u001b[0m\u001b[0mcopy\u001b[0m\u001b[1;33m)\u001b[0m\u001b[1;33m\u001b[0m\u001b[0m\n\u001b[0m\u001b[0;32m    374\u001b[0m \u001b[1;33m\u001b[0m\u001b[0m\n\u001b[0;32m    375\u001b[0m         \u001b[1;32mif\u001b[0m \u001b[0mensure_2d\u001b[0m\u001b[1;33m:\u001b[0m\u001b[1;33m\u001b[0m\u001b[0m\n",
      "\u001b[1;31mValueError\u001b[0m: could not convert string to float: 'N'"
     ]
    }
   ],
   "source": [
    "summary_xy(df[],df['2014_totrevenuediffper2'])"
   ]
  },
  {
   "cell_type": "code",
   "execution_count": null,
   "metadata": {
    "collapsed": true
   },
   "outputs": [],
   "source": []
  }
 ],
 "metadata": {
  "kernelspec": {
   "display_name": "Python 3",
   "language": "python",
   "name": "python3"
  },
  "language_info": {
   "codemirror_mode": {
    "name": "ipython",
    "version": 3
   },
   "file_extension": ".py",
   "mimetype": "text/x-python",
   "name": "python",
   "nbconvert_exporter": "python",
   "pygments_lexer": "ipython3",
   "version": "3.5.1"
  }
 },
 "nbformat": 4,
 "nbformat_minor": 0
}
